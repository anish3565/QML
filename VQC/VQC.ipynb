{
  "nbformat": 4,
  "nbformat_minor": 0,
  "metadata": {
    "colab": {
      "provenance": [],
      "include_colab_link": true
    },
    "kernelspec": {
      "name": "python3",
      "display_name": "Python 3"
    },
    "language_info": {
      "name": "python"
    }
  },
  "cells": [
    {
      "cell_type": "markdown",
      "metadata": {
        "id": "view-in-github",
        "colab_type": "text"
      },
      "source": [
        "<a href=\"https://colab.research.google.com/github/anish3565/QML/blob/main/VQC/VQC.ipynb\" target=\"_parent\"><img src=\"https://colab.research.google.com/assets/colab-badge.svg\" alt=\"Open In Colab\"/></a>"
      ]
    },
    {
      "cell_type": "markdown",
      "source": [
        "https://github.com/qiskit-community/qiskit-community-tutorials/blob/master/machine_learning/vqc.ipynb"
      ],
      "metadata": {
        "id": "YJwREwZDTVzY"
      }
    },
    {
      "cell_type": "code",
      "source": [
        "!pip install qiskit-machine-learning"
      ],
      "metadata": {
        "colab": {
          "base_uri": "https://localhost:8080/"
        },
        "collapsed": true,
        "id": "z_OwmX3CPcKJ",
        "outputId": "fd8dd848-f260-4c36-c032-1ab55830d2fa"
      },
      "execution_count": null,
      "outputs": [
        {
          "output_type": "stream",
          "name": "stdout",
          "text": [
            "Collecting qiskit-machine-learning\n",
            "  Downloading qiskit_machine_learning-0.8.2-py3-none-any.whl.metadata (13 kB)\n",
            "Collecting qiskit>=1.0 (from qiskit-machine-learning)\n",
            "  Downloading qiskit-1.3.2-cp39-abi3-manylinux_2_17_x86_64.manylinux2014_x86_64.whl.metadata (12 kB)\n",
            "Requirement already satisfied: scipy>=1.4 in /usr/local/lib/python3.11/dist-packages (from qiskit-machine-learning) (1.13.1)\n",
            "Requirement already satisfied: numpy>=1.17 in /usr/local/lib/python3.11/dist-packages (from qiskit-machine-learning) (1.26.4)\n",
            "Requirement already satisfied: psutil>=5 in /usr/local/lib/python3.11/dist-packages (from qiskit-machine-learning) (5.9.5)\n",
            "Requirement already satisfied: scikit-learn>=1.2 in /usr/local/lib/python3.11/dist-packages (from qiskit-machine-learning) (1.6.0)\n",
            "Requirement already satisfied: setuptools>=40.1 in /usr/local/lib/python3.11/dist-packages (from qiskit-machine-learning) (75.1.0)\n",
            "Collecting dill>=0.3.4 (from qiskit-machine-learning)\n",
            "  Downloading dill-0.3.9-py3-none-any.whl.metadata (10 kB)\n",
            "Collecting rustworkx>=0.15.0 (from qiskit>=1.0->qiskit-machine-learning)\n",
            "  Downloading rustworkx-0.15.1-cp38-abi3-manylinux_2_17_x86_64.manylinux2014_x86_64.whl.metadata (9.9 kB)\n",
            "Requirement already satisfied: sympy>=1.3 in /usr/local/lib/python3.11/dist-packages (from qiskit>=1.0->qiskit-machine-learning) (1.13.1)\n",
            "Requirement already satisfied: python-dateutil>=2.8.0 in /usr/local/lib/python3.11/dist-packages (from qiskit>=1.0->qiskit-machine-learning) (2.8.2)\n",
            "Collecting stevedore>=3.0.0 (from qiskit>=1.0->qiskit-machine-learning)\n",
            "  Downloading stevedore-5.4.0-py3-none-any.whl.metadata (2.3 kB)\n",
            "Requirement already satisfied: typing-extensions in /usr/local/lib/python3.11/dist-packages (from qiskit>=1.0->qiskit-machine-learning) (4.12.2)\n",
            "Collecting symengine<0.14,>=0.11 (from qiskit>=1.0->qiskit-machine-learning)\n",
            "  Downloading symengine-0.13.0-cp311-cp311-manylinux_2_17_x86_64.manylinux2014_x86_64.whl.metadata (1.2 kB)\n",
            "Requirement already satisfied: joblib>=1.2.0 in /usr/local/lib/python3.11/dist-packages (from scikit-learn>=1.2->qiskit-machine-learning) (1.4.2)\n",
            "Requirement already satisfied: threadpoolctl>=3.1.0 in /usr/local/lib/python3.11/dist-packages (from scikit-learn>=1.2->qiskit-machine-learning) (3.5.0)\n",
            "Requirement already satisfied: six>=1.5 in /usr/local/lib/python3.11/dist-packages (from python-dateutil>=2.8.0->qiskit>=1.0->qiskit-machine-learning) (1.17.0)\n",
            "Collecting pbr>=2.0.0 (from stevedore>=3.0.0->qiskit>=1.0->qiskit-machine-learning)\n",
            "  Downloading pbr-6.1.0-py2.py3-none-any.whl.metadata (3.4 kB)\n",
            "Requirement already satisfied: mpmath<1.4,>=1.1.0 in /usr/local/lib/python3.11/dist-packages (from sympy>=1.3->qiskit>=1.0->qiskit-machine-learning) (1.3.0)\n",
            "Downloading qiskit_machine_learning-0.8.2-py3-none-any.whl (231 kB)\n",
            "\u001b[2K   \u001b[90m━━━━━━━━━━━━━━━━━━━━━━━━━━━━━━━━━━━━━━━━\u001b[0m \u001b[32m231.6/231.6 kB\u001b[0m \u001b[31m12.7 MB/s\u001b[0m eta \u001b[36m0:00:00\u001b[0m\n",
            "\u001b[?25hDownloading dill-0.3.9-py3-none-any.whl (119 kB)\n",
            "\u001b[2K   \u001b[90m━━━━━━━━━━━━━━━━━━━━━━━━━━━━━━━━━━━━━━━━\u001b[0m \u001b[32m119.4/119.4 kB\u001b[0m \u001b[31m10.8 MB/s\u001b[0m eta \u001b[36m0:00:00\u001b[0m\n",
            "\u001b[?25hDownloading qiskit-1.3.2-cp39-abi3-manylinux_2_17_x86_64.manylinux2014_x86_64.whl (6.8 MB)\n",
            "\u001b[2K   \u001b[90m━━━━━━━━━━━━━━━━━━━━━━━━━━━━━━━━━━━━━━━━\u001b[0m \u001b[32m6.8/6.8 MB\u001b[0m \u001b[31m90.1 MB/s\u001b[0m eta \u001b[36m0:00:00\u001b[0m\n",
            "\u001b[?25hDownloading rustworkx-0.15.1-cp38-abi3-manylinux_2_17_x86_64.manylinux2014_x86_64.whl (2.0 MB)\n",
            "\u001b[2K   \u001b[90m━━━━━━━━━━━━━━━━━━━━━━━━━━━━━━━━━━━━━━━━\u001b[0m \u001b[32m2.0/2.0 MB\u001b[0m \u001b[31m71.1 MB/s\u001b[0m eta \u001b[36m0:00:00\u001b[0m\n",
            "\u001b[?25hDownloading stevedore-5.4.0-py3-none-any.whl (49 kB)\n",
            "\u001b[2K   \u001b[90m━━━━━━━━━━━━━━━━━━━━━━━━━━━━━━━━━━━━━━━━\u001b[0m \u001b[32m49.5/49.5 kB\u001b[0m \u001b[31m3.5 MB/s\u001b[0m eta \u001b[36m0:00:00\u001b[0m\n",
            "\u001b[?25hDownloading symengine-0.13.0-cp311-cp311-manylinux_2_17_x86_64.manylinux2014_x86_64.whl (49.7 MB)\n",
            "\u001b[2K   \u001b[90m━━━━━━━━━━━━━━━━━━━━━━━━━━━━━━━━━━━━━━━━\u001b[0m \u001b[32m49.7/49.7 MB\u001b[0m \u001b[31m17.8 MB/s\u001b[0m eta \u001b[36m0:00:00\u001b[0m\n",
            "\u001b[?25hDownloading pbr-6.1.0-py2.py3-none-any.whl (108 kB)\n",
            "\u001b[2K   \u001b[90m━━━━━━━━━━━━━━━━━━━━━━━━━━━━━━━━━━━━━━━━\u001b[0m \u001b[32m108.5/108.5 kB\u001b[0m \u001b[31m9.5 MB/s\u001b[0m eta \u001b[36m0:00:00\u001b[0m\n",
            "\u001b[?25hInstalling collected packages: symengine, rustworkx, pbr, dill, stevedore, qiskit, qiskit-machine-learning\n",
            "Successfully installed dill-0.3.9 pbr-6.1.0 qiskit-1.3.2 qiskit-machine-learning-0.8.2 rustworkx-0.15.1 stevedore-5.4.0 symengine-0.13.0\n"
          ]
        }
      ]
    },
    {
      "cell_type": "code",
      "source": [
        "!pip install qiskit\n",
        "!pip install qiskit-optimization\n",
        "!pip install qiskit-algorithms"
      ],
      "metadata": {
        "colab": {
          "base_uri": "https://localhost:8080/"
        },
        "collapsed": true,
        "id": "ET5J2c-ePsa9",
        "outputId": "a95d04b3-8fa6-4d09-d7e2-c293905f7fbc"
      },
      "execution_count": null,
      "outputs": [
        {
          "output_type": "stream",
          "name": "stdout",
          "text": [
            "Requirement already satisfied: qiskit in /usr/local/lib/python3.11/dist-packages (1.3.2)\n",
            "Requirement already satisfied: rustworkx>=0.15.0 in /usr/local/lib/python3.11/dist-packages (from qiskit) (0.15.1)\n",
            "Requirement already satisfied: numpy<3,>=1.17 in /usr/local/lib/python3.11/dist-packages (from qiskit) (1.26.4)\n",
            "Requirement already satisfied: scipy>=1.5 in /usr/local/lib/python3.11/dist-packages (from qiskit) (1.13.1)\n",
            "Requirement already satisfied: sympy>=1.3 in /usr/local/lib/python3.11/dist-packages (from qiskit) (1.13.1)\n",
            "Requirement already satisfied: dill>=0.3 in /usr/local/lib/python3.11/dist-packages (from qiskit) (0.3.9)\n",
            "Requirement already satisfied: python-dateutil>=2.8.0 in /usr/local/lib/python3.11/dist-packages (from qiskit) (2.8.2)\n",
            "Requirement already satisfied: stevedore>=3.0.0 in /usr/local/lib/python3.11/dist-packages (from qiskit) (5.4.0)\n",
            "Requirement already satisfied: typing-extensions in /usr/local/lib/python3.11/dist-packages (from qiskit) (4.12.2)\n",
            "Requirement already satisfied: symengine<0.14,>=0.11 in /usr/local/lib/python3.11/dist-packages (from qiskit) (0.13.0)\n",
            "Requirement already satisfied: six>=1.5 in /usr/local/lib/python3.11/dist-packages (from python-dateutil>=2.8.0->qiskit) (1.17.0)\n",
            "Requirement already satisfied: pbr>=2.0.0 in /usr/local/lib/python3.11/dist-packages (from stevedore>=3.0.0->qiskit) (6.1.0)\n",
            "Requirement already satisfied: mpmath<1.4,>=1.1.0 in /usr/local/lib/python3.11/dist-packages (from sympy>=1.3->qiskit) (1.3.0)\n",
            "Collecting qiskit-optimization\n",
            "  Downloading qiskit_optimization-0.6.1-py3-none-any.whl.metadata (8.6 kB)\n",
            "Requirement already satisfied: qiskit>=0.44 in /usr/local/lib/python3.11/dist-packages (from qiskit-optimization) (1.3.2)\n",
            "Collecting qiskit-algorithms>=0.2.0 (from qiskit-optimization)\n",
            "  Downloading qiskit_algorithms-0.3.1-py3-none-any.whl.metadata (4.2 kB)\n",
            "Requirement already satisfied: scipy>=1.9.0 in /usr/local/lib/python3.11/dist-packages (from qiskit-optimization) (1.13.1)\n",
            "Requirement already satisfied: numpy>=1.17 in /usr/local/lib/python3.11/dist-packages (from qiskit-optimization) (1.26.4)\n",
            "Collecting docplex!=2.24.231,>=2.21.207 (from qiskit-optimization)\n",
            "  Downloading docplex-2.29.241.tar.gz (645 kB)\n",
            "\u001b[2K     \u001b[90m━━━━━━━━━━━━━━━━━━━━━━━━━━━━━━━━━━━━━━━━\u001b[0m \u001b[32m645.5/645.5 kB\u001b[0m \u001b[31m15.9 MB/s\u001b[0m eta \u001b[36m0:00:00\u001b[0m\n",
            "\u001b[?25h  Installing build dependencies ... \u001b[?25l\u001b[?25hdone\n",
            "  Getting requirements to build wheel ... \u001b[?25l\u001b[?25hdone\n",
            "  Installing backend dependencies ... \u001b[?25l\u001b[?25hdone\n",
            "  Preparing metadata (pyproject.toml) ... \u001b[?25l\u001b[?25hdone\n",
            "Requirement already satisfied: setuptools>=40.1.0 in /usr/local/lib/python3.11/dist-packages (from qiskit-optimization) (75.1.0)\n",
            "Requirement already satisfied: networkx>=2.6.3 in /usr/local/lib/python3.11/dist-packages (from qiskit-optimization) (3.4.2)\n",
            "Requirement already satisfied: six in /usr/local/lib/python3.11/dist-packages (from docplex!=2.24.231,>=2.21.207->qiskit-optimization) (1.17.0)\n",
            "Requirement already satisfied: rustworkx>=0.15.0 in /usr/local/lib/python3.11/dist-packages (from qiskit>=0.44->qiskit-optimization) (0.15.1)\n",
            "Requirement already satisfied: sympy>=1.3 in /usr/local/lib/python3.11/dist-packages (from qiskit>=0.44->qiskit-optimization) (1.13.1)\n",
            "Requirement already satisfied: dill>=0.3 in /usr/local/lib/python3.11/dist-packages (from qiskit>=0.44->qiskit-optimization) (0.3.9)\n",
            "Requirement already satisfied: python-dateutil>=2.8.0 in /usr/local/lib/python3.11/dist-packages (from qiskit>=0.44->qiskit-optimization) (2.8.2)\n",
            "Requirement already satisfied: stevedore>=3.0.0 in /usr/local/lib/python3.11/dist-packages (from qiskit>=0.44->qiskit-optimization) (5.4.0)\n",
            "Requirement already satisfied: typing-extensions in /usr/local/lib/python3.11/dist-packages (from qiskit>=0.44->qiskit-optimization) (4.12.2)\n",
            "Requirement already satisfied: symengine<0.14,>=0.11 in /usr/local/lib/python3.11/dist-packages (from qiskit>=0.44->qiskit-optimization) (0.13.0)\n",
            "Requirement already satisfied: pbr>=2.0.0 in /usr/local/lib/python3.11/dist-packages (from stevedore>=3.0.0->qiskit>=0.44->qiskit-optimization) (6.1.0)\n",
            "Requirement already satisfied: mpmath<1.4,>=1.1.0 in /usr/local/lib/python3.11/dist-packages (from sympy>=1.3->qiskit>=0.44->qiskit-optimization) (1.3.0)\n",
            "Downloading qiskit_optimization-0.6.1-py3-none-any.whl (167 kB)\n",
            "\u001b[2K   \u001b[90m━━━━━━━━━━━━━━━━━━━━━━━━━━━━━━━━━━━━━━━━\u001b[0m \u001b[32m167.6/167.6 kB\u001b[0m \u001b[31m13.5 MB/s\u001b[0m eta \u001b[36m0:00:00\u001b[0m\n",
            "\u001b[?25hDownloading qiskit_algorithms-0.3.1-py3-none-any.whl (310 kB)\n",
            "\u001b[2K   \u001b[90m━━━━━━━━━━━━━━━━━━━━━━━━━━━━━━━━━━━━━━━━\u001b[0m \u001b[32m310.5/310.5 kB\u001b[0m \u001b[31m23.1 MB/s\u001b[0m eta \u001b[36m0:00:00\u001b[0m\n",
            "\u001b[?25hBuilding wheels for collected packages: docplex\n",
            "  Building wheel for docplex (pyproject.toml) ... \u001b[?25l\u001b[?25hdone\n",
            "  Created wheel for docplex: filename=docplex-2.29.241-py3-none-any.whl size=685423 sha256=d8219ebf440418dc55c1c2fea87ed70e3ab85b084c075d3608133756829f5c22\n",
            "  Stored in directory: /root/.cache/pip/wheels/00/4f/37/fbc42df1f9b6786024d4b39c81f0b373c84e6fab9e18513fc2\n",
            "Successfully built docplex\n",
            "Installing collected packages: docplex, qiskit-algorithms, qiskit-optimization\n",
            "Successfully installed docplex-2.29.241 qiskit-algorithms-0.3.1 qiskit-optimization-0.6.1\n",
            "Requirement already satisfied: qiskit-algorithms in /usr/local/lib/python3.11/dist-packages (0.3.1)\n",
            "Requirement already satisfied: qiskit>=0.44 in /usr/local/lib/python3.11/dist-packages (from qiskit-algorithms) (1.3.2)\n",
            "Requirement already satisfied: scipy>=1.4 in /usr/local/lib/python3.11/dist-packages (from qiskit-algorithms) (1.13.1)\n",
            "Requirement already satisfied: numpy>=1.17 in /usr/local/lib/python3.11/dist-packages (from qiskit-algorithms) (1.26.4)\n",
            "Requirement already satisfied: rustworkx>=0.15.0 in /usr/local/lib/python3.11/dist-packages (from qiskit>=0.44->qiskit-algorithms) (0.15.1)\n",
            "Requirement already satisfied: sympy>=1.3 in /usr/local/lib/python3.11/dist-packages (from qiskit>=0.44->qiskit-algorithms) (1.13.1)\n",
            "Requirement already satisfied: dill>=0.3 in /usr/local/lib/python3.11/dist-packages (from qiskit>=0.44->qiskit-algorithms) (0.3.9)\n",
            "Requirement already satisfied: python-dateutil>=2.8.0 in /usr/local/lib/python3.11/dist-packages (from qiskit>=0.44->qiskit-algorithms) (2.8.2)\n",
            "Requirement already satisfied: stevedore>=3.0.0 in /usr/local/lib/python3.11/dist-packages (from qiskit>=0.44->qiskit-algorithms) (5.4.0)\n",
            "Requirement already satisfied: typing-extensions in /usr/local/lib/python3.11/dist-packages (from qiskit>=0.44->qiskit-algorithms) (4.12.2)\n",
            "Requirement already satisfied: symengine<0.14,>=0.11 in /usr/local/lib/python3.11/dist-packages (from qiskit>=0.44->qiskit-algorithms) (0.13.0)\n",
            "Requirement already satisfied: six>=1.5 in /usr/local/lib/python3.11/dist-packages (from python-dateutil>=2.8.0->qiskit>=0.44->qiskit-algorithms) (1.17.0)\n",
            "Requirement already satisfied: pbr>=2.0.0 in /usr/local/lib/python3.11/dist-packages (from stevedore>=3.0.0->qiskit>=0.44->qiskit-algorithms) (6.1.0)\n",
            "Requirement already satisfied: mpmath<1.4,>=1.1.0 in /usr/local/lib/python3.11/dist-packages (from sympy>=1.3->qiskit>=0.44->qiskit-algorithms) (1.3.0)\n"
          ]
        }
      ]
    },
    {
      "cell_type": "code",
      "source": [
        "!pip install pylatexenc"
      ],
      "metadata": {
        "collapsed": true,
        "colab": {
          "base_uri": "https://localhost:8080/"
        },
        "id": "z39pW4BqQBT_",
        "outputId": "587e9d5d-baaa-4739-e2d0-0148b1d75a56"
      },
      "execution_count": null,
      "outputs": [
        {
          "output_type": "stream",
          "name": "stdout",
          "text": [
            "Collecting pylatexenc\n",
            "  Downloading pylatexenc-2.10.tar.gz (162 kB)\n",
            "\u001b[?25l     \u001b[90m━━━━━━━━━━━━━━━━━━━━━━━━━━━━━━━━━━━━━━━━\u001b[0m \u001b[32m0.0/162.6 kB\u001b[0m \u001b[31m?\u001b[0m eta \u001b[36m-:--:--\u001b[0m\r\u001b[2K     \u001b[90m━━━━━━━━━━━━━━━━━━━━━━━━━━━━━━━━━━━━━━━━\u001b[0m \u001b[32m162.6/162.6 kB\u001b[0m \u001b[31m4.7 MB/s\u001b[0m eta \u001b[36m0:00:00\u001b[0m\n",
            "\u001b[?25h  Preparing metadata (setup.py) ... \u001b[?25l\u001b[?25hdone\n",
            "Building wheels for collected packages: pylatexenc\n",
            "  Building wheel for pylatexenc (setup.py) ... \u001b[?25l\u001b[?25hdone\n",
            "  Created wheel for pylatexenc: filename=pylatexenc-2.10-py3-none-any.whl size=136816 sha256=219a445defbd6ec6feb6285c6d82ab3390aad01d9a973fad5b6b9f5d1e318103\n",
            "  Stored in directory: /root/.cache/pip/wheels/b1/7a/33/9fdd892f784ed4afda62b685ae3703adf4c91aa0f524c28f03\n",
            "Successfully built pylatexenc\n",
            "Installing collected packages: pylatexenc\n",
            "Successfully installed pylatexenc-2.10\n"
          ]
        }
      ]
    },
    {
      "cell_type": "code",
      "source": [
        "pip show pylatexenc\n"
      ],
      "metadata": {
        "colab": {
          "base_uri": "https://localhost:8080/"
        },
        "id": "UX1gWmhlRG4Y",
        "outputId": "a7fa99f8-18c3-4bd6-e830-44116f5f921e"
      },
      "execution_count": null,
      "outputs": [
        {
          "output_type": "stream",
          "name": "stdout",
          "text": [
            "Name: pylatexenc\n",
            "Version: 2.10\n",
            "Summary: Simple LaTeX parser providing latex-to-unicode and unicode-to-latex conversion\n",
            "Home-page: https://github.com/phfaist/pylatexenc\n",
            "Author: Philippe Faist\n",
            "Author-email: philippe.faist@bluewin.ch\n",
            "License: MIT\n",
            "Location: /usr/local/lib/python3.11/dist-packages\n",
            "Requires: \n",
            "Required-by: \n"
          ]
        }
      ]
    },
    {
      "cell_type": "code",
      "source": [
        "import numpy as np\n",
        "import matplotlib.pyplot as plt\n",
        "from matplotlib.lines import Line2D\n",
        "\n",
        "from qiskit.circuit.library import ZZFeatureMap, TwoLocal\n",
        "from qiskit.primitives import StatevectorSampler\n",
        "\n",
        "from qiskit_machine_learning.datasets import ad_hoc_data\n",
        "from qiskit_algorithms.optimizers import SPSA"
      ],
      "metadata": {
        "id": "g5uNvjKqIVwo"
      },
      "execution_count": null,
      "outputs": []
    },
    {
      "cell_type": "code",
      "source": [
        "feature_dim = 2 # dimension of each data point\n",
        "training_dataset_size = 20\n",
        "testing_dataset_size = 10\n",
        "random_seed = 10598\n",
        "shots = 1024\n",
        "\n",
        "train_data, train_labels, test_data, test_labels = ad_hoc_data(\n",
        "    training_size=training_dataset_size,\n",
        "    test_size=testing_dataset_size,\n",
        "    n=feature_dim,\n",
        "    gap=0.3,\n",
        "    plot_data=True,\n",
        "    one_hot=False\n",
        "    )"
      ],
      "metadata": {
        "colab": {
          "base_uri": "https://localhost:8080/",
          "height": 452
        },
        "id": "Qtqvb0vrIVuG",
        "outputId": "b96dbb9e-db12-4a36-88a9-ac5af6d062c4"
      },
      "execution_count": null,
      "outputs": [
        {
          "output_type": "display_data",
          "data": {
            "text/plain": [
              "<Figure size 640x480 with 1 Axes>"
            ],
            "image/png": "[encoded data removed]"
          },
          "metadata": {}
        }
      ]
    },
    {
      "cell_type": "code",
      "source": [
        "!pip install matplotlib\n",
        "!pip install qiskit[visualization]"
      ],
      "metadata": {
        "colab": {
          "base_uri": "https://localhost:8080/"
        },
        "collapsed": true,
        "id": "dWSV-XJSRTgi",
        "outputId": "e12e1774-347d-426d-af37-e5143716948e"
      },
      "execution_count": null,
      "outputs": [
        {
          "output_type": "stream",
          "name": "stdout",
          "text": [
            "Requirement already satisfied: matplotlib in /usr/local/lib/python3.11/dist-packages (3.10.0)\n",
            "Requirement already satisfied: contourpy>=1.0.1 in /usr/local/lib/python3.11/dist-packages (from matplotlib) (1.3.1)\n",
            "Requirement already satisfied: cycler>=0.10 in /usr/local/lib/python3.11/dist-packages (from matplotlib) (0.12.1)\n",
            "Requirement already satisfied: fonttools>=4.22.0 in /usr/local/lib/python3.11/dist-packages (from matplotlib) (4.55.3)\n",
            "Requirement already satisfied: kiwisolver>=1.3.1 in /usr/local/lib/python3.11/dist-packages (from matplotlib) (1.4.8)\n",
            "Requirement already satisfied: numpy>=1.23 in /usr/local/lib/python3.11/dist-packages (from matplotlib) (1.26.4)\n",
            "Requirement already satisfied: packaging>=20.0 in /usr/local/lib/python3.11/dist-packages (from matplotlib) (24.2)\n",
            "Requirement already satisfied: pillow>=8 in /usr/local/lib/python3.11/dist-packages (from matplotlib) (11.1.0)\n",
            "Requirement already satisfied: pyparsing>=2.3.1 in /usr/local/lib/python3.11/dist-packages (from matplotlib) (3.2.1)\n",
            "Requirement already satisfied: python-dateutil>=2.7 in /usr/local/lib/python3.11/dist-packages (from matplotlib) (2.8.2)\n",
            "Requirement already satisfied: six>=1.5 in /usr/local/lib/python3.11/dist-packages (from python-dateutil>=2.7->matplotlib) (1.17.0)\n",
            "Requirement already satisfied: qiskit[visualization] in /usr/local/lib/python3.11/dist-packages (1.3.2)\n",
            "Requirement already satisfied: rustworkx>=0.15.0 in /usr/local/lib/python3.11/dist-packages (from qiskit[visualization]) (0.15.1)\n",
            "Requirement already satisfied: numpy<3,>=1.17 in /usr/local/lib/python3.11/dist-packages (from qiskit[visualization]) (1.26.4)\n",
            "Requirement already satisfied: scipy>=1.5 in /usr/local/lib/python3.11/dist-packages (from qiskit[visualization]) (1.13.1)\n",
            "Requirement already satisfied: sympy>=1.3 in /usr/local/lib/python3.11/dist-packages (from qiskit[visualization]) (1.13.1)\n",
            "Requirement already satisfied: dill>=0.3 in /usr/local/lib/python3.11/dist-packages (from qiskit[visualization]) (0.3.9)\n",
            "Requirement already satisfied: python-dateutil>=2.8.0 in /usr/local/lib/python3.11/dist-packages (from qiskit[visualization]) (2.8.2)\n",
            "Requirement already satisfied: stevedore>=3.0.0 in /usr/local/lib/python3.11/dist-packages (from qiskit[visualization]) (5.4.0)\n",
            "Requirement already satisfied: typing-extensions in /usr/local/lib/python3.11/dist-packages (from qiskit[visualization]) (4.12.2)\n",
            "Requirement already satisfied: symengine<0.14,>=0.11 in /usr/local/lib/python3.11/dist-packages (from qiskit[visualization]) (0.13.0)\n",
            "Requirement already satisfied: matplotlib>=3.3 in /usr/local/lib/python3.11/dist-packages (from qiskit[visualization]) (3.10.0)\n",
            "Requirement already satisfied: pydot in /usr/local/lib/python3.11/dist-packages (from qiskit[visualization]) (3.0.4)\n",
            "Requirement already satisfied: Pillow>=4.2.1 in /usr/local/lib/python3.11/dist-packages (from qiskit[visualization]) (11.1.0)\n",
            "Requirement already satisfied: pylatexenc>=1.4 in /usr/local/lib/python3.11/dist-packages (from qiskit[visualization]) (2.10)\n",
            "Requirement already satisfied: seaborn>=0.9.0 in /usr/local/lib/python3.11/dist-packages (from qiskit[visualization]) (0.13.2)\n",
            "Requirement already satisfied: contourpy>=1.0.1 in /usr/local/lib/python3.11/dist-packages (from matplotlib>=3.3->qiskit[visualization]) (1.3.1)\n",
            "Requirement already satisfied: cycler>=0.10 in /usr/local/lib/python3.11/dist-packages (from matplotlib>=3.3->qiskit[visualization]) (0.12.1)\n",
            "Requirement already satisfied: fonttools>=4.22.0 in /usr/local/lib/python3.11/dist-packages (from matplotlib>=3.3->qiskit[visualization]) (4.55.3)\n",
            "Requirement already satisfied: kiwisolver>=1.3.1 in /usr/local/lib/python3.11/dist-packages (from matplotlib>=3.3->qiskit[visualization]) (1.4.8)\n",
            "Requirement already satisfied: packaging>=20.0 in /usr/local/lib/python3.11/dist-packages (from matplotlib>=3.3->qiskit[visualization]) (24.2)\n",
            "Requirement already satisfied: pyparsing>=2.3.1 in /usr/local/lib/python3.11/dist-packages (from matplotlib>=3.3->qiskit[visualization]) (3.2.1)\n",
            "Requirement already satisfied: six>=1.5 in /usr/local/lib/python3.11/dist-packages (from python-dateutil>=2.8.0->qiskit[visualization]) (1.17.0)\n",
            "Requirement already satisfied: pandas>=1.2 in /usr/local/lib/python3.11/dist-packages (from seaborn>=0.9.0->qiskit[visualization]) (2.2.2)\n",
            "Requirement already satisfied: pbr>=2.0.0 in /usr/local/lib/python3.11/dist-packages (from stevedore>=3.0.0->qiskit[visualization]) (6.1.0)\n",
            "Requirement already satisfied: mpmath<1.4,>=1.1.0 in /usr/local/lib/python3.11/dist-packages (from sympy>=1.3->qiskit[visualization]) (1.3.0)\n",
            "Requirement already satisfied: pytz>=2020.1 in /usr/local/lib/python3.11/dist-packages (from pandas>=1.2->seaborn>=0.9.0->qiskit[visualization]) (2024.2)\n",
            "Requirement already satisfied: tzdata>=2022.7 in /usr/local/lib/python3.11/dist-packages (from pandas>=1.2->seaborn>=0.9.0->qiskit[visualization]) (2024.2)\n"
          ]
        }
      ]
    },
    {
      "cell_type": "code",
      "source": [
        "feature_map = ZZFeatureMap(feature_dimension=2, reps=2)\n",
        "feature_map.barrier()\n",
        "var_form = TwoLocal(2, ['ry', 'rz'], 'cz', reps=2)\n",
        "\n",
        "ad_hoc_circuit = feature_map.compose(var_form)\n",
        "ad_hoc_circuit.measure_all()\n",
        "ad_hoc_circuit.decompose().draw(output=\"text\", style=\"iqp\")"
      ],
      "metadata": {
        "colab": {
          "base_uri": "https://localhost:8080/",
          "height": 448
        },
        "id": "qMiocjjUP26i",
        "outputId": "c74fea62-ec20-456a-d933-b22eed40337e"
      },
      "execution_count": null,
      "outputs": [
        {
          "output_type": "execute_result",
          "data": {
            "text/plain": [
              "        ┌───┐┌─────────────┐                                          ┌───┐»\n",
              "   q_0: ┤ H ├┤ P(2.0*x[0]) ├──■────────────────────────────────────■──┤ H ├»\n",
              "        ├───┤├─────────────┤┌─┴─┐┌──────────────────────────────┐┌─┴─┐├───┤»\n",
              "   q_1: ┤ H ├┤ P(2.0*x[1]) ├┤ X ├┤ P(2.0*(π - x[0])*(π - x[1])) ├┤ X ├┤ H ├»\n",
              "        └───┘└─────────────┘└───┘└──────────────────────────────┘└───┘└───┘»\n",
              "meas: 2/═══════════════════════════════════════════════════════════════════»\n",
              "                                                                           »\n",
              "«        ┌─────────────┐                                           ░ »\n",
              "«   q_0: ┤ P(2.0*x[0]) ├──■────────────────────────────────────■───░─»\n",
              "«        ├─────────────┤┌─┴─┐┌──────────────────────────────┐┌─┴─┐ ░ »\n",
              "«   q_1: ┤ P(2.0*x[1]) ├┤ X ├┤ P(2.0*(π - x[0])*(π - x[1])) ├┤ X ├─░─»\n",
              "«        └─────────────┘└───┘└──────────────────────────────┘└───┘ ░ »\n",
              "«meas: 2/════════════════════════════════════════════════════════════»\n",
              "«                                                                    »\n",
              "«        ┌──────────┐┌──────────┐   ┌──────────┐┌──────────┐   ┌──────────┐»\n",
              "«   q_0: ┤ Ry(θ[0]) ├┤ Rz(θ[2]) ├─■─┤ Ry(θ[4]) ├┤ Rz(θ[6]) ├─■─┤ Ry(θ[8]) ├»\n",
              "«        ├──────────┤├──────────┤ │ ├──────────┤├──────────┤ │ ├──────────┤»\n",
              "«   q_1: ┤ Ry(θ[1]) ├┤ Rz(θ[3]) ├─■─┤ Ry(θ[5]) ├┤ Rz(θ[7]) ├─■─┤ Ry(θ[9]) ├»\n",
              "«        └──────────┘└──────────┘   └──────────┘└──────────┘   └──────────┘»\n",
              "«meas: 2/══════════════════════════════════════════════════════════════════»\n",
              "«                                                                          »\n",
              "«        ┌───────────┐ ░ ┌─┐   \n",
              "«   q_0: ┤ Rz(θ[10]) ├─░─┤M├───\n",
              "«        ├───────────┤ ░ └╥┘┌─┐\n",
              "«   q_1: ┤ Rz(θ[11]) ├─░──╫─┤M├\n",
              "«        └───────────┘ ░  ║ └╥┘\n",
              "«meas: 2/═════════════════╩══╩═\n",
              "«                         0  1 "
            ],
            "text/html": [
              "<pre style=\"word-wrap: normal;white-space: pre;background: #fff0;line-height: 1.1;font-family: &quot;Courier New&quot;,Courier,monospace\">        ┌───┐┌─────────────┐                                          ┌───┐»\n",
              "   q_0: ┤ H ├┤ P(2.0*x[0]) ├──■────────────────────────────────────■──┤ H ├»\n",
              "        ├───┤├─────────────┤┌─┴─┐┌──────────────────────────────┐┌─┴─┐├───┤»\n",
              "   q_1: ┤ H ├┤ P(2.0*x[1]) ├┤ X ├┤ P(2.0*(π - x[0])*(π - x[1])) ├┤ X ├┤ H ├»\n",
              "        └───┘└─────────────┘└───┘└──────────────────────────────┘└───┘└───┘»\n",
              "meas: 2/═══════════════════════════════════════════════════════════════════»\n",
              "                                                                           »\n",
              "«        ┌─────────────┐                                           ░ »\n",
              "«   q_0: ┤ P(2.0*x[0]) ├──■────────────────────────────────────■───░─»\n",
              "«        ├─────────────┤┌─┴─┐┌──────────────────────────────┐┌─┴─┐ ░ »\n",
              "«   q_1: ┤ P(2.0*x[1]) ├┤ X ├┤ P(2.0*(π - x[0])*(π - x[1])) ├┤ X ├─░─»\n",
              "«        └─────────────┘└───┘└──────────────────────────────┘└───┘ ░ »\n",
              "«meas: 2/════════════════════════════════════════════════════════════»\n",
              "«                                                                    »\n",
              "«        ┌──────────┐┌──────────┐   ┌──────────┐┌──────────┐   ┌──────────┐»\n",
              "«   q_0: ┤ Ry(θ[0]) ├┤ Rz(θ[2]) ├─■─┤ Ry(θ[4]) ├┤ Rz(θ[6]) ├─■─┤ Ry(θ[8]) ├»\n",
              "«        ├──────────┤├──────────┤ │ ├──────────┤├──────────┤ │ ├──────────┤»\n",
              "«   q_1: ┤ Ry(θ[1]) ├┤ Rz(θ[3]) ├─■─┤ Ry(θ[5]) ├┤ Rz(θ[7]) ├─■─┤ Ry(θ[9]) ├»\n",
              "«        └──────────┘└──────────┘   └──────────┘└──────────┘   └──────────┘»\n",
              "«meas: 2/══════════════════════════════════════════════════════════════════»\n",
              "«                                                                          »\n",
              "«        ┌───────────┐ ░ ┌─┐   \n",
              "«   q_0: ┤ Rz(θ[10]) ├─░─┤M├───\n",
              "«        ├───────────┤ ░ └╥┘┌─┐\n",
              "«   q_1: ┤ Rz(θ[11]) ├─░──╫─┤M├\n",
              "«        └───────────┘ ░  ║ └╥┘\n",
              "«meas: 2/═════════════════╩══╩═\n",
              "«                         0  1 </pre>"
            ]
          },
          "metadata": {},
          "execution_count": 11
        }
      ]
    },
    {
      "cell_type": "code",
      "source": [
        "def circuit_instance(data, variational):\n",
        "    \"\"\"Assigns parameter values to `AD_HOC_CIRCUIT`.\n",
        "    Args:\n",
        "        data (list): Data values for the feature map\n",
        "        variational (list): Parameter values for `VAR_FORM`\n",
        "    Returns:\n",
        "        QuantumCircuit: `AD_HOC_CIRCUIT` with parameters assigned\n",
        "    \"\"\"\n",
        "    parameters = {}\n",
        "    for i, p in enumerate(feature_map.ordered_parameters):\n",
        "        parameters[p] = data[i]\n",
        "    for i, p in enumerate(var_form.ordered_parameters):\n",
        "        parameters[p] = variational[i]\n",
        "    return ad_hoc_circuit.assign_parameters(parameters)\n",
        "\n",
        "\n",
        "def parity(bitstring):\n",
        "    \"\"\"Returns 1 if parity of `bitstring` is even, otherwise 0.\"\"\"\n",
        "    hamming_weight = sum(int(k) for k in list(bitstring))\n",
        "    return (hamming_weight+1) % 2\n",
        "\n",
        "\n",
        "def label_probability(results):\n",
        "    \"\"\"Converts a dict of bitstrings and their counts,\n",
        "    to parities and their counts\"\"\"\n",
        "    shots = sum(results.values())\n",
        "    probabilities = {0: 0, 1: 0}\n",
        "    for bitstring, counts in results.items():\n",
        "        label = parity(bitstring)\n",
        "        probabilities[label] += counts / shots\n",
        "    return probabilities\n",
        "\n",
        "\n",
        "def classification_probability(data, variational):\n",
        "    \"\"\"Classify data points using given parameters.\n",
        "    Args:\n",
        "        data (list): Set of data points to classify\n",
        "        variational (list): Parameters for `VAR_FORM`\n",
        "    Returns:\n",
        "        list[dict]: Probability of circuit classifying\n",
        "                    each data point as 0 or 1.\n",
        "    \"\"\"\n",
        "    circuits = [circuit_instance(d, variational) for d in data]\n",
        "    sampler = StatevectorSampler()\n",
        "    results = sampler.run(circuits).result()\n",
        "    classification = [\n",
        "        label_probability(results[i].data.meas.get_counts()) for i, c in enumerate(circuits)]\n",
        "    return classification\n",
        "\n",
        "\n",
        "def cross_entropy_loss(classification, expected):\n",
        "    \"\"\"Calculate accuracy of predictions using cross entropy loss.\n",
        "    Args:\n",
        "        classification (dict): Dict where keys are possible classes,\n",
        "                               and values are the probability our\n",
        "                               circuit chooses that class.\n",
        "        expected (int): Correct classification of the data point.\n",
        "\n",
        "    Returns:\n",
        "        float: Cross entropy loss\n",
        "    \"\"\"\n",
        "    p = classification.get(expected)  # Prob. of correct classification\n",
        "    return -np.log(p + 1e-10)\n",
        "\n",
        "\n",
        "def cost_function(data, labels, variational):\n",
        "    \"\"\"Evaluates performance of our circuit with `variational`\n",
        "    parameters on `data`.\n",
        "\n",
        "    Args:\n",
        "        data (list): List of data points to classify\n",
        "        labels (list): List of correct labels for each data point\n",
        "        variational (list): Parameters to use in circuit\n",
        "\n",
        "    Returns:\n",
        "        float: Cost (metric of performance)\n",
        "    \"\"\"\n",
        "    classifications = classification_probability(data, variational)\n",
        "    cost = 0\n",
        "    for i, classification in enumerate(classifications):\n",
        "        cost += cross_entropy_loss(classification, labels[i])\n",
        "    cost /= len(data)\n",
        "    return cost\n",
        "\n",
        "\n",
        "def objective_function(variational):\n",
        "    \"\"\"Cost function of circuit parameters on training data.\n",
        "    The optimizer will attempt to minimize this.\"\"\"\n",
        "    return cost_function(train_data, train_labels, variational)"
      ],
      "metadata": {
        "id": "bA_jP0qLQZnI"
      },
      "execution_count": null,
      "outputs": []
    },
    {
      "cell_type": "code",
      "source": [
        "class OptimizerLog:\n",
        "    \"\"\"Log to store optimizer's intermediate results\"\"\"\n",
        "    def __init__(self):\n",
        "        self.evaluations = []\n",
        "        self.parameters = []\n",
        "        self.costs = []\n",
        "    def update(self, evaluation, parameter, cost, _stepsize, _accept):\n",
        "        \"\"\"Save intermediate results. Optimizer passes five values\n",
        "        but we ignore the last two.\"\"\"\n",
        "        self.evaluations.append(evaluation)\n",
        "        self.parameters.append(parameter)\n",
        "        self.costs.append(cost)\n",
        "\n",
        "# Set up the optimization\n",
        "\n",
        "log = OptimizerLog()\n",
        "optimizer = SPSA(maxiter=100, callback=log.update)\n",
        "\n",
        "initial_point = np.zeros((var_form.num_parameters))\n",
        "\n",
        "# Run the optimization\n",
        "result = optimizer.minimize(objective_function, initial_point)\n",
        "\n",
        "opt_var = result.x\n",
        "opt_value = result.fun\n",
        "\n",
        "fig = plt.figure()\n",
        "plt.plot(log.evaluations, log.costs)\n",
        "plt.xlabel('Steps')\n",
        "plt.ylabel('Cost')\n",
        "plt.show()"
      ],
      "metadata": {
        "colab": {
          "base_uri": "https://localhost:8080/",
          "height": 449
        },
        "id": "yOo7XqesQZjp",
        "outputId": "05893db5-aea1-4173-fea6-2d7d7fea8e7f"
      },
      "execution_count": null,
      "outputs": [
        {
          "output_type": "display_data",
          "data": {
            "text/plain": [
              "<Figure size 640x480 with 1 Axes>"
            ],
            "image/png": "[encoded data removed]"
          },
          "metadata": {}
        }
      ]
    },
    {
      "cell_type": "code",
      "source": [
        "def test_classifier(data, labels, variational):\n",
        "    \"\"\"Gets classifier's most likely predictions and accuracy of those\n",
        "    predictions.\n",
        "\n",
        "    Args:\n",
        "        data (list): List of data points to classify\n",
        "        labels (list): List of correct labels for each data point\n",
        "        variational (list): List of parameter values for classifier\n",
        "\n",
        "    Returns:\n",
        "        float: Average accuracy of classifier over `data`\n",
        "        list: Classifier's label predictions for each data point\n",
        "    \"\"\"\n",
        "    probability = classification_probability(data, variational)\n",
        "    predictions = [0 if p[0] >= p[1] else 1 for p in probability]\n",
        "    accuracy = 0\n",
        "\n",
        "    for i, prediction in enumerate(predictions):\n",
        "        if prediction == labels[i]:\n",
        "            accuracy += 1\n",
        "    accuracy /= len(labels)\n",
        "    return accuracy, predictions\n",
        "\n",
        "accuracy, predictions = test_classifier(test_data, test_labels, opt_var)\n",
        "accuracy"
      ],
      "metadata": {
        "colab": {
          "base_uri": "https://localhost:8080/"
        },
        "id": "Om14FJdVQZgL",
        "outputId": "efe77913-e9bb-452e-909e-c02da2562534"
      },
      "execution_count": null,
      "outputs": [
        {
          "output_type": "execute_result",
          "data": {
            "text/plain": [
              "1.0"
            ]
          },
          "metadata": {},
          "execution_count": 14
        }
      ]
    },
    {
      "cell_type": "code",
      "source": [
        "plt.figure(figsize=(9, 6))\n",
        "\n",
        "for feature, label in zip(train_data, train_labels):\n",
        "    COLOR = 'C0' if label == 0 else 'C1'\n",
        "    plt.scatter(feature[0], feature[1],\n",
        "                marker='o', s=100, color=COLOR)\n",
        "\n",
        "for feature, label, pred in zip(test_data, test_labels, predictions):\n",
        "    COLOR = 'C0' if pred == 0 else 'C1'\n",
        "    plt.scatter(feature[0], feature[1],\n",
        "                marker='s', s=100, color=COLOR)\n",
        "    if label != pred:  # mark wrongly classified\n",
        "        plt.scatter(feature[0], feature[1], marker='o', s=500,\n",
        "                    linewidths=2.5, facecolor='none', edgecolor='C3')\n",
        "\n",
        "legend_elements = [\n",
        "    Line2D([0], [0], marker='o', c='w', mfc='C1', label='A', ms=10),\n",
        "    Line2D([0], [0], marker='o', c='w', mfc='C0', label='B', ms=10),\n",
        "    Line2D([0], [0], marker='s', c='w', mfc='C1', label='predict A',\n",
        "           ms=10),\n",
        "    Line2D([0], [0], marker='s', c='w', mfc='C0', label='predict B',\n",
        "           ms=10),\n",
        "    Line2D([0], [0], marker='o', c='w', mfc='none', mec='C3',\n",
        "           label='wrongly classified', mew=2, ms=15)\n",
        "]\n",
        "\n",
        "plt.legend(handles=legend_elements, bbox_to_anchor=(1, 1),\n",
        "           loc='upper left')\n",
        "\n",
        "plt.title('Training & Test Data')\n",
        "plt.xlabel('x')\n",
        "plt.ylabel('y')\n",
        "plt.show()"
      ],
      "metadata": {
        "colab": {
          "base_uri": "https://localhost:8080/",
          "height": 564
        },
        "id": "ScvITawIQZcq",
        "outputId": "ecdec47f-5f87-46cf-f80e-df7f535154c2"
      },
      "execution_count": null,
      "outputs": [
        {
          "output_type": "display_data",
          "data": {
            "text/plain": [
              "<Figure size 900x600 with 1 Axes>"
            ],
            "image/png": "[encoded data removed]"
          },
          "metadata": {}
        }
      ]
    },
    {
      "cell_type": "code",
      "source": [
        "! pip freeze | grep qiskit"
      ],
      "metadata": {
        "colab": {
          "base_uri": "https://localhost:8080/"
        },
        "id": "k4u_ceLbQZaA",
        "outputId": "c1b1390a-0085-4572-f42a-7408b9bf89c5"
      },
      "execution_count": null,
      "outputs": [
        {
          "output_type": "stream",
          "name": "stdout",
          "text": [
            "qiskit==1.3.2\n",
            "qiskit-algorithms==0.3.1\n",
            "qiskit-machine-learning==0.8.2\n",
            "qiskit-optimization==0.6.1\n"
          ]
        }
      ]
    }
  ]
}