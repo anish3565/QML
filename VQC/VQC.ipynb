{
  "nbformat": 4,
  "nbformat_minor": 0,
  "metadata": {
    "colab": {
      "provenance": [],
      "include_colab_link": true
    },
    "kernelspec": {
      "name": "python3",
      "display_name": "Python 3"
    },
    "language_info": {
      "name": "python"
    }
  },
  "cells": [
    {
      "cell_type": "markdown",
      "metadata": {
        "id": "view-in-github",
        "colab_type": "text"
      },
      "source": [
        "<a href=\"https://colab.research.google.com/github/anish3565/QML/blob/main/VQC/VQC.ipynb\" target=\"_parent\"><img src=\"https://colab.research.google.com/assets/colab-badge.svg\" alt=\"Open In Colab\"/></a>"
      ]
    },
    {
      "cell_type": "code",
      "source": [
        "!pip install \"qiskit==0.45.2\" \"qiskit-machine-learning==0.6.1\" \"qiskit-optimization==0.6.0\" \"qiskit-algorithms==0.2.1\""
      ],
      "metadata": {
        "id": "rQhtwe81mUzk",
        "outputId": "f424bffe-e1ae-4404-9cf9-bfeaa98fbb70",
        "colab": {
          "base_uri": "https://localhost:8080/"
        }
      },
      "execution_count": 1,
      "outputs": [
        {
          "output_type": "stream",
          "name": "stdout",
          "text": [
            "Requirement already satisfied: qiskit==0.45.2 in /usr/local/lib/python3.11/dist-packages (0.45.2)\n",
            "Requirement already satisfied: qiskit-machine-learning==0.6.1 in /usr/local/lib/python3.11/dist-packages (0.6.1)\n",
            "Requirement already satisfied: qiskit-optimization==0.6.0 in /usr/local/lib/python3.11/dist-packages (0.6.0)\n",
            "Requirement already satisfied: qiskit-algorithms==0.2.1 in /usr/local/lib/python3.11/dist-packages (0.2.1)\n",
            "Requirement already satisfied: qiskit-terra==0.45.2 in /usr/local/lib/python3.11/dist-packages (from qiskit==0.45.2) (0.45.2)\n",
            "Requirement already satisfied: scipy>=1.4 in /usr/local/lib/python3.11/dist-packages (from qiskit-machine-learning==0.6.1) (1.14.1)\n",
            "Requirement already satisfied: numpy>=1.17 in /usr/local/lib/python3.11/dist-packages (from qiskit-machine-learning==0.6.1) (1.26.4)\n",
            "Requirement already satisfied: psutil>=5 in /usr/local/lib/python3.11/dist-packages (from qiskit-machine-learning==0.6.1) (5.9.5)\n",
            "Requirement already satisfied: scikit-learn>=0.20.0 in /usr/local/lib/python3.11/dist-packages (from qiskit-machine-learning==0.6.1) (1.6.1)\n",
            "Requirement already satisfied: fastdtw in /usr/local/lib/python3.11/dist-packages (from qiskit-machine-learning==0.6.1) (0.3.4)\n",
            "Requirement already satisfied: setuptools>=40.1.0 in /usr/local/lib/python3.11/dist-packages (from qiskit-machine-learning==0.6.1) (75.2.0)\n",
            "Requirement already satisfied: dill>=0.3.4 in /usr/local/lib/python3.11/dist-packages (from qiskit-machine-learning==0.6.1) (0.4.0)\n",
            "Requirement already satisfied: docplex!=2.24.231,>=2.21.207 in /usr/local/lib/python3.11/dist-packages (from qiskit-optimization==0.6.0) (2.29.241)\n",
            "Requirement already satisfied: networkx>=2.6.3 in /usr/local/lib/python3.11/dist-packages (from qiskit-optimization==0.6.0) (3.4.2)\n",
            "Requirement already satisfied: rustworkx>=0.13.0 in /usr/local/lib/python3.11/dist-packages (from qiskit-terra==0.45.2->qiskit==0.45.2) (0.16.0)\n",
            "Requirement already satisfied: ply>=3.10 in /usr/local/lib/python3.11/dist-packages (from qiskit-terra==0.45.2->qiskit==0.45.2) (3.11)\n",
            "Requirement already satisfied: sympy>=1.3 in /usr/local/lib/python3.11/dist-packages (from qiskit-terra==0.45.2->qiskit==0.45.2) (1.13.1)\n",
            "Requirement already satisfied: python-dateutil>=2.8.0 in /usr/local/lib/python3.11/dist-packages (from qiskit-terra==0.45.2->qiskit==0.45.2) (2.8.2)\n",
            "Requirement already satisfied: stevedore>=3.0.0 in /usr/local/lib/python3.11/dist-packages (from qiskit-terra==0.45.2->qiskit==0.45.2) (5.4.1)\n",
            "Requirement already satisfied: symengine!=0.10.0,>=0.9 in /usr/local/lib/python3.11/dist-packages (from qiskit-terra==0.45.2->qiskit==0.45.2) (0.14.1)\n",
            "Requirement already satisfied: six in /usr/local/lib/python3.11/dist-packages (from docplex!=2.24.231,>=2.21.207->qiskit-optimization==0.6.0) (1.17.0)\n",
            "Requirement already satisfied: joblib>=1.2.0 in /usr/local/lib/python3.11/dist-packages (from scikit-learn>=0.20.0->qiskit-machine-learning==0.6.1) (1.4.2)\n",
            "Requirement already satisfied: threadpoolctl>=3.1.0 in /usr/local/lib/python3.11/dist-packages (from scikit-learn>=0.20.0->qiskit-machine-learning==0.6.1) (3.6.0)\n",
            "Requirement already satisfied: pbr>=2.0.0 in /usr/local/lib/python3.11/dist-packages (from stevedore>=3.0.0->qiskit-terra==0.45.2->qiskit==0.45.2) (6.1.1)\n",
            "Requirement already satisfied: mpmath<1.4,>=1.1.0 in /usr/local/lib/python3.11/dist-packages (from sympy>=1.3->qiskit-terra==0.45.2->qiskit==0.45.2) (1.3.0)\n"
          ]
        }
      ]
    },
    {
      "cell_type": "code",
      "source": [
        "# !pip install qiskit-machine-learning"
      ],
      "metadata": {
        "collapsed": true,
        "id": "z_OwmX3CPcKJ"
      },
      "execution_count": 2,
      "outputs": []
    },
    {
      "cell_type": "code",
      "source": [
        "# !pip install qiskit\n",
        "# !pip install qiskit-optimization\n",
        "# !pip install qiskit-algorithms"
      ],
      "metadata": {
        "collapsed": true,
        "id": "ET5J2c-ePsa9"
      },
      "execution_count": 3,
      "outputs": []
    },
    {
      "cell_type": "code",
      "source": [
        "# !pip install pylatexenc"
      ],
      "metadata": {
        "collapsed": true,
        "id": "z39pW4BqQBT_"
      },
      "execution_count": 4,
      "outputs": []
    },
    {
      "cell_type": "code",
      "source": [
        "import numpy as np\n",
        "import matplotlib.pyplot as plt\n",
        "from matplotlib.lines import Line2D\n",
        "\n",
        "from qiskit.circuit.library import ZZFeatureMap, TwoLocal\n",
        "from qiskit.primitives import Sampler\n",
        "\n",
        "from qiskit_machine_learning.datasets import ad_hoc_data\n",
        "from qiskit_algorithms.optimizers import SPSA"
      ],
      "metadata": {
        "id": "g5uNvjKqIVwo"
      },
      "execution_count": 7,
      "outputs": []
    },
    {
      "cell_type": "code",
      "source": [
        "feature_dim = 2 # dimension of each data point\n",
        "training_dataset_size = 20\n",
        "testing_dataset_size = 10\n",
        "random_seed = 10598\n",
        "shots = 1024\n",
        "\n",
        "train_data, train_labels, test_data, test_labels = ad_hoc_data(\n",
        "    training_size=training_dataset_size,\n",
        "    test_size=testing_dataset_size,\n",
        "    n=feature_dim,\n",
        "    gap=0.3,\n",
        "    plot_data=True,\n",
        "    one_hot=False\n",
        "    )"
      ],
      "metadata": {
        "colab": {
          "base_uri": "https://localhost:8080/",
          "height": 452
        },
        "id": "Qtqvb0vrIVuG",
        "outputId": "671a261e-d29a-4c1a-ed42-b24e5dd746c7"
      },
      "execution_count": 8,
      "outputs": [
        {
          "output_type": "display_data",
          "data": {
            "text/plain": [
              "<Figure size 640x480 with 1 Axes>"
            ],
            "image/png": "[encoded data removed]"
          },
          "metadata": {}
        }
      ]
    },
    {
      "cell_type": "code",
      "source": [
        "!pip install matplotlib\n",
        "!pip install qiskit[visualization]"
      ],
      "metadata": {
        "colab": {
          "base_uri": "https://localhost:8080/"
        },
        "collapsed": true,
        "id": "dWSV-XJSRTgi",
        "outputId": "46faaccf-dec0-456e-b028-2f3073e02bb4"
      },
      "execution_count": 9,
      "outputs": [
        {
          "output_type": "stream",
          "name": "stdout",
          "text": [
            "Requirement already satisfied: matplotlib in /usr/local/lib/python3.11/dist-packages (3.10.0)\n",
            "Requirement already satisfied: contourpy>=1.0.1 in /usr/local/lib/python3.11/dist-packages (from matplotlib) (1.3.2)\n",
            "Requirement already satisfied: cycler>=0.10 in /usr/local/lib/python3.11/dist-packages (from matplotlib) (0.12.1)\n",
            "Requirement already satisfied: fonttools>=4.22.0 in /usr/local/lib/python3.11/dist-packages (from matplotlib) (4.57.0)\n",
            "Requirement already satisfied: kiwisolver>=1.3.1 in /usr/local/lib/python3.11/dist-packages (from matplotlib) (1.4.8)\n",
            "Requirement already satisfied: numpy>=1.23 in /usr/local/lib/python3.11/dist-packages (from matplotlib) (1.26.4)\n",
            "Requirement already satisfied: packaging>=20.0 in /usr/local/lib/python3.11/dist-packages (from matplotlib) (24.2)\n",
            "Requirement already satisfied: pillow>=8 in /usr/local/lib/python3.11/dist-packages (from matplotlib) (11.1.0)\n",
            "Requirement already satisfied: pyparsing>=2.3.1 in /usr/local/lib/python3.11/dist-packages (from matplotlib) (3.2.3)\n",
            "Requirement already satisfied: python-dateutil>=2.7 in /usr/local/lib/python3.11/dist-packages (from matplotlib) (2.8.2)\n",
            "Requirement already satisfied: six>=1.5 in /usr/local/lib/python3.11/dist-packages (from python-dateutil>=2.7->matplotlib) (1.17.0)\n",
            "Requirement already satisfied: qiskit[visualization] in /usr/local/lib/python3.11/dist-packages (0.45.2)\n",
            "Requirement already satisfied: qiskit-terra==0.45.2 in /usr/local/lib/python3.11/dist-packages (from qiskit[visualization]) (0.45.2)\n",
            "Requirement already satisfied: rustworkx>=0.13.0 in /usr/local/lib/python3.11/dist-packages (from qiskit-terra==0.45.2->qiskit[visualization]) (0.16.0)\n",
            "Requirement already satisfied: numpy<2,>=1.17 in /usr/local/lib/python3.11/dist-packages (from qiskit-terra==0.45.2->qiskit[visualization]) (1.26.4)\n",
            "Requirement already satisfied: ply>=3.10 in /usr/local/lib/python3.11/dist-packages (from qiskit-terra==0.45.2->qiskit[visualization]) (3.11)\n",
            "Requirement already satisfied: psutil>=5 in /usr/local/lib/python3.11/dist-packages (from qiskit-terra==0.45.2->qiskit[visualization]) (5.9.5)\n",
            "Requirement already satisfied: scipy>=1.5 in /usr/local/lib/python3.11/dist-packages (from qiskit-terra==0.45.2->qiskit[visualization]) (1.14.1)\n",
            "Requirement already satisfied: sympy>=1.3 in /usr/local/lib/python3.11/dist-packages (from qiskit-terra==0.45.2->qiskit[visualization]) (1.13.1)\n",
            "Requirement already satisfied: dill>=0.3 in /usr/local/lib/python3.11/dist-packages (from qiskit-terra==0.45.2->qiskit[visualization]) (0.4.0)\n",
            "Requirement already satisfied: python-dateutil>=2.8.0 in /usr/local/lib/python3.11/dist-packages (from qiskit-terra==0.45.2->qiskit[visualization]) (2.8.2)\n",
            "Requirement already satisfied: stevedore>=3.0.0 in /usr/local/lib/python3.11/dist-packages (from qiskit-terra==0.45.2->qiskit[visualization]) (5.4.1)\n",
            "Requirement already satisfied: symengine!=0.10.0,>=0.9 in /usr/local/lib/python3.11/dist-packages (from qiskit-terra==0.45.2->qiskit[visualization]) (0.14.1)\n",
            "Requirement already satisfied: matplotlib>=3.3 in /usr/local/lib/python3.11/dist-packages (from qiskit-terra[visualization]; extra == \"visualization\"->qiskit[visualization]) (3.10.0)\n",
            "Requirement already satisfied: ipywidgets>=7.3.0 in /usr/local/lib/python3.11/dist-packages (from qiskit-terra[visualization]; extra == \"visualization\"->qiskit[visualization]) (7.7.1)\n",
            "Requirement already satisfied: pydot in /usr/local/lib/python3.11/dist-packages (from qiskit-terra[visualization]; extra == \"visualization\"->qiskit[visualization]) (3.0.4)\n",
            "Requirement already satisfied: pillow>=4.2.1 in /usr/local/lib/python3.11/dist-packages (from qiskit-terra[visualization]; extra == \"visualization\"->qiskit[visualization]) (11.1.0)\n",
            "Requirement already satisfied: pylatexenc>=1.4 in /usr/local/lib/python3.11/dist-packages (from qiskit-terra[visualization]; extra == \"visualization\"->qiskit[visualization]) (2.10)\n",
            "Requirement already satisfied: seaborn>=0.9.0 in /usr/local/lib/python3.11/dist-packages (from qiskit-terra[visualization]; extra == \"visualization\"->qiskit[visualization]) (0.13.2)\n",
            "Requirement already satisfied: pygments>=2.4 in /usr/local/lib/python3.11/dist-packages (from qiskit-terra[visualization]; extra == \"visualization\"->qiskit[visualization]) (2.18.0)\n",
            "Requirement already satisfied: ipykernel>=4.5.1 in /usr/local/lib/python3.11/dist-packages (from ipywidgets>=7.3.0->qiskit-terra[visualization]; extra == \"visualization\"->qiskit[visualization]) (6.17.1)\n",
            "Requirement already satisfied: ipython-genutils~=0.2.0 in /usr/local/lib/python3.11/dist-packages (from ipywidgets>=7.3.0->qiskit-terra[visualization]; extra == \"visualization\"->qiskit[visualization]) (0.2.0)\n",
            "Requirement already satisfied: traitlets>=4.3.1 in /usr/local/lib/python3.11/dist-packages (from ipywidgets>=7.3.0->qiskit-terra[visualization]; extra == \"visualization\"->qiskit[visualization]) (5.7.1)\n",
            "Requirement already satisfied: widgetsnbextension~=3.6.0 in /usr/local/lib/python3.11/dist-packages (from ipywidgets>=7.3.0->qiskit-terra[visualization]; extra == \"visualization\"->qiskit[visualization]) (3.6.10)\n",
            "Requirement already satisfied: ipython>=4.0.0 in /usr/local/lib/python3.11/dist-packages (from ipywidgets>=7.3.0->qiskit-terra[visualization]; extra == \"visualization\"->qiskit[visualization]) (7.34.0)\n",
            "Requirement already satisfied: jupyterlab-widgets>=1.0.0 in /usr/local/lib/python3.11/dist-packages (from ipywidgets>=7.3.0->qiskit-terra[visualization]; extra == \"visualization\"->qiskit[visualization]) (3.0.14)\n",
            "Requirement already satisfied: contourpy>=1.0.1 in /usr/local/lib/python3.11/dist-packages (from matplotlib>=3.3->qiskit-terra[visualization]; extra == \"visualization\"->qiskit[visualization]) (1.3.2)\n",
            "Requirement already satisfied: cycler>=0.10 in /usr/local/lib/python3.11/dist-packages (from matplotlib>=3.3->qiskit-terra[visualization]; extra == \"visualization\"->qiskit[visualization]) (0.12.1)\n",
            "Requirement already satisfied: fonttools>=4.22.0 in /usr/local/lib/python3.11/dist-packages (from matplotlib>=3.3->qiskit-terra[visualization]; extra == \"visualization\"->qiskit[visualization]) (4.57.0)\n",
            "Requirement already satisfied: kiwisolver>=1.3.1 in /usr/local/lib/python3.11/dist-packages (from matplotlib>=3.3->qiskit-terra[visualization]; extra == \"visualization\"->qiskit[visualization]) (1.4.8)\n",
            "Requirement already satisfied: packaging>=20.0 in /usr/local/lib/python3.11/dist-packages (from matplotlib>=3.3->qiskit-terra[visualization]; extra == \"visualization\"->qiskit[visualization]) (24.2)\n",
            "Requirement already satisfied: pyparsing>=2.3.1 in /usr/local/lib/python3.11/dist-packages (from matplotlib>=3.3->qiskit-terra[visualization]; extra == \"visualization\"->qiskit[visualization]) (3.2.3)\n",
            "Requirement already satisfied: six>=1.5 in /usr/local/lib/python3.11/dist-packages (from python-dateutil>=2.8.0->qiskit-terra==0.45.2->qiskit[visualization]) (1.17.0)\n",
            "Requirement already satisfied: pandas>=1.2 in /usr/local/lib/python3.11/dist-packages (from seaborn>=0.9.0->qiskit-terra[visualization]; extra == \"visualization\"->qiskit[visualization]) (2.2.2)\n",
            "Requirement already satisfied: pbr>=2.0.0 in /usr/local/lib/python3.11/dist-packages (from stevedore>=3.0.0->qiskit-terra==0.45.2->qiskit[visualization]) (6.1.1)\n",
            "Requirement already satisfied: mpmath<1.4,>=1.1.0 in /usr/local/lib/python3.11/dist-packages (from sympy>=1.3->qiskit-terra==0.45.2->qiskit[visualization]) (1.3.0)\n",
            "Requirement already satisfied: debugpy>=1.0 in /usr/local/lib/python3.11/dist-packages (from ipykernel>=4.5.1->ipywidgets>=7.3.0->qiskit-terra[visualization]; extra == \"visualization\"->qiskit[visualization]) (1.8.0)\n",
            "Requirement already satisfied: jupyter-client>=6.1.12 in /usr/local/lib/python3.11/dist-packages (from ipykernel>=4.5.1->ipywidgets>=7.3.0->qiskit-terra[visualization]; extra == \"visualization\"->qiskit[visualization]) (6.1.12)\n",
            "Requirement already satisfied: matplotlib-inline>=0.1 in /usr/local/lib/python3.11/dist-packages (from ipykernel>=4.5.1->ipywidgets>=7.3.0->qiskit-terra[visualization]; extra == \"visualization\"->qiskit[visualization]) (0.1.7)\n",
            "Requirement already satisfied: nest-asyncio in /usr/local/lib/python3.11/dist-packages (from ipykernel>=4.5.1->ipywidgets>=7.3.0->qiskit-terra[visualization]; extra == \"visualization\"->qiskit[visualization]) (1.6.0)\n",
            "Requirement already satisfied: pyzmq>=17 in /usr/local/lib/python3.11/dist-packages (from ipykernel>=4.5.1->ipywidgets>=7.3.0->qiskit-terra[visualization]; extra == \"visualization\"->qiskit[visualization]) (24.0.1)\n",
            "Requirement already satisfied: tornado>=6.1 in /usr/local/lib/python3.11/dist-packages (from ipykernel>=4.5.1->ipywidgets>=7.3.0->qiskit-terra[visualization]; extra == \"visualization\"->qiskit[visualization]) (6.4.2)\n",
            "Requirement already satisfied: setuptools>=18.5 in /usr/local/lib/python3.11/dist-packages (from ipython>=4.0.0->ipywidgets>=7.3.0->qiskit-terra[visualization]; extra == \"visualization\"->qiskit[visualization]) (75.2.0)\n",
            "Collecting jedi>=0.16 (from ipython>=4.0.0->ipywidgets>=7.3.0->qiskit-terra[visualization]; extra == \"visualization\"->qiskit[visualization])\n",
            "  Downloading jedi-0.19.2-py2.py3-none-any.whl.metadata (22 kB)\n",
            "Requirement already satisfied: decorator in /usr/local/lib/python3.11/dist-packages (from ipython>=4.0.0->ipywidgets>=7.3.0->qiskit-terra[visualization]; extra == \"visualization\"->qiskit[visualization]) (4.4.2)\n",
            "Requirement already satisfied: pickleshare in /usr/local/lib/python3.11/dist-packages (from ipython>=4.0.0->ipywidgets>=7.3.0->qiskit-terra[visualization]; extra == \"visualization\"->qiskit[visualization]) (0.7.5)\n",
            "Requirement already satisfied: prompt-toolkit!=3.0.0,!=3.0.1,<3.1.0,>=2.0.0 in /usr/local/lib/python3.11/dist-packages (from ipython>=4.0.0->ipywidgets>=7.3.0->qiskit-terra[visualization]; extra == \"visualization\"->qiskit[visualization]) (3.0.51)\n",
            "Requirement already satisfied: backcall in /usr/local/lib/python3.11/dist-packages (from ipython>=4.0.0->ipywidgets>=7.3.0->qiskit-terra[visualization]; extra == \"visualization\"->qiskit[visualization]) (0.2.0)\n",
            "Requirement already satisfied: pexpect>4.3 in /usr/local/lib/python3.11/dist-packages (from ipython>=4.0.0->ipywidgets>=7.3.0->qiskit-terra[visualization]; extra == \"visualization\"->qiskit[visualization]) (4.9.0)\n",
            "Requirement already satisfied: pytz>=2020.1 in /usr/local/lib/python3.11/dist-packages (from pandas>=1.2->seaborn>=0.9.0->qiskit-terra[visualization]; extra == \"visualization\"->qiskit[visualization]) (2025.2)\n",
            "Requirement already satisfied: tzdata>=2022.7 in /usr/local/lib/python3.11/dist-packages (from pandas>=1.2->seaborn>=0.9.0->qiskit-terra[visualization]; extra == \"visualization\"->qiskit[visualization]) (2025.2)\n",
            "Requirement already satisfied: notebook>=4.4.1 in /usr/local/lib/python3.11/dist-packages (from widgetsnbextension~=3.6.0->ipywidgets>=7.3.0->qiskit-terra[visualization]; extra == \"visualization\"->qiskit[visualization]) (6.5.7)\n",
            "Requirement already satisfied: parso<0.9.0,>=0.8.4 in /usr/local/lib/python3.11/dist-packages (from jedi>=0.16->ipython>=4.0.0->ipywidgets>=7.3.0->qiskit-terra[visualization]; extra == \"visualization\"->qiskit[visualization]) (0.8.4)\n",
            "Requirement already satisfied: jupyter-core>=4.6.0 in /usr/local/lib/python3.11/dist-packages (from jupyter-client>=6.1.12->ipykernel>=4.5.1->ipywidgets>=7.3.0->qiskit-terra[visualization]; extra == \"visualization\"->qiskit[visualization]) (5.7.2)\n",
            "Requirement already satisfied: jinja2 in /usr/local/lib/python3.11/dist-packages (from notebook>=4.4.1->widgetsnbextension~=3.6.0->ipywidgets>=7.3.0->qiskit-terra[visualization]; extra == \"visualization\"->qiskit[visualization]) (3.1.6)\n",
            "Requirement already satisfied: argon2-cffi in /usr/local/lib/python3.11/dist-packages (from notebook>=4.4.1->widgetsnbextension~=3.6.0->ipywidgets>=7.3.0->qiskit-terra[visualization]; extra == \"visualization\"->qiskit[visualization]) (23.1.0)\n",
            "Requirement already satisfied: nbformat in /usr/local/lib/python3.11/dist-packages (from notebook>=4.4.1->widgetsnbextension~=3.6.0->ipywidgets>=7.3.0->qiskit-terra[visualization]; extra == \"visualization\"->qiskit[visualization]) (5.10.4)\n",
            "Requirement already satisfied: nbconvert>=5 in /usr/local/lib/python3.11/dist-packages (from notebook>=4.4.1->widgetsnbextension~=3.6.0->ipywidgets>=7.3.0->qiskit-terra[visualization]; extra == \"visualization\"->qiskit[visualization]) (7.16.6)\n",
            "Requirement already satisfied: Send2Trash>=1.8.0 in /usr/local/lib/python3.11/dist-packages (from notebook>=4.4.1->widgetsnbextension~=3.6.0->ipywidgets>=7.3.0->qiskit-terra[visualization]; extra == \"visualization\"->qiskit[visualization]) (1.8.3)\n",
            "Requirement already satisfied: terminado>=0.8.3 in /usr/local/lib/python3.11/dist-packages (from notebook>=4.4.1->widgetsnbextension~=3.6.0->ipywidgets>=7.3.0->qiskit-terra[visualization]; extra == \"visualization\"->qiskit[visualization]) (0.18.1)\n",
            "Requirement already satisfied: prometheus-client in /usr/local/lib/python3.11/dist-packages (from notebook>=4.4.1->widgetsnbextension~=3.6.0->ipywidgets>=7.3.0->qiskit-terra[visualization]; extra == \"visualization\"->qiskit[visualization]) (0.21.1)\n",
            "Requirement already satisfied: nbclassic>=0.4.7 in /usr/local/lib/python3.11/dist-packages (from notebook>=4.4.1->widgetsnbextension~=3.6.0->ipywidgets>=7.3.0->qiskit-terra[visualization]; extra == \"visualization\"->qiskit[visualization]) (1.2.0)\n",
            "Requirement already satisfied: ptyprocess>=0.5 in /usr/local/lib/python3.11/dist-packages (from pexpect>4.3->ipython>=4.0.0->ipywidgets>=7.3.0->qiskit-terra[visualization]; extra == \"visualization\"->qiskit[visualization]) (0.7.0)\n",
            "Requirement already satisfied: wcwidth in /usr/local/lib/python3.11/dist-packages (from prompt-toolkit!=3.0.0,!=3.0.1,<3.1.0,>=2.0.0->ipython>=4.0.0->ipywidgets>=7.3.0->qiskit-terra[visualization]; extra == \"visualization\"->qiskit[visualization]) (0.2.13)\n",
            "Requirement already satisfied: platformdirs>=2.5 in /usr/local/lib/python3.11/dist-packages (from jupyter-core>=4.6.0->jupyter-client>=6.1.12->ipykernel>=4.5.1->ipywidgets>=7.3.0->qiskit-terra[visualization]; extra == \"visualization\"->qiskit[visualization]) (4.3.7)\n",
            "Requirement already satisfied: notebook-shim>=0.2.3 in /usr/local/lib/python3.11/dist-packages (from nbclassic>=0.4.7->notebook>=4.4.1->widgetsnbextension~=3.6.0->ipywidgets>=7.3.0->qiskit-terra[visualization]; extra == \"visualization\"->qiskit[visualization]) (0.2.4)\n",
            "Requirement already satisfied: beautifulsoup4 in /usr/local/lib/python3.11/dist-packages (from nbconvert>=5->notebook>=4.4.1->widgetsnbextension~=3.6.0->ipywidgets>=7.3.0->qiskit-terra[visualization]; extra == \"visualization\"->qiskit[visualization]) (4.13.4)\n",
            "Requirement already satisfied: bleach!=5.0.0 in /usr/local/lib/python3.11/dist-packages (from bleach[css]!=5.0.0->nbconvert>=5->notebook>=4.4.1->widgetsnbextension~=3.6.0->ipywidgets>=7.3.0->qiskit-terra[visualization]; extra == \"visualization\"->qiskit[visualization]) (6.2.0)\n",
            "Requirement already satisfied: defusedxml in /usr/local/lib/python3.11/dist-packages (from nbconvert>=5->notebook>=4.4.1->widgetsnbextension~=3.6.0->ipywidgets>=7.3.0->qiskit-terra[visualization]; extra == \"visualization\"->qiskit[visualization]) (0.7.1)\n",
            "Requirement already satisfied: jupyterlab-pygments in /usr/local/lib/python3.11/dist-packages (from nbconvert>=5->notebook>=4.4.1->widgetsnbextension~=3.6.0->ipywidgets>=7.3.0->qiskit-terra[visualization]; extra == \"visualization\"->qiskit[visualization]) (0.3.0)\n",
            "Requirement already satisfied: markupsafe>=2.0 in /usr/local/lib/python3.11/dist-packages (from nbconvert>=5->notebook>=4.4.1->widgetsnbextension~=3.6.0->ipywidgets>=7.3.0->qiskit-terra[visualization]; extra == \"visualization\"->qiskit[visualization]) (3.0.2)\n",
            "Requirement already satisfied: mistune<4,>=2.0.3 in /usr/local/lib/python3.11/dist-packages (from nbconvert>=5->notebook>=4.4.1->widgetsnbextension~=3.6.0->ipywidgets>=7.3.0->qiskit-terra[visualization]; extra == \"visualization\"->qiskit[visualization]) (3.1.3)\n",
            "Requirement already satisfied: nbclient>=0.5.0 in /usr/local/lib/python3.11/dist-packages (from nbconvert>=5->notebook>=4.4.1->widgetsnbextension~=3.6.0->ipywidgets>=7.3.0->qiskit-terra[visualization]; extra == \"visualization\"->qiskit[visualization]) (0.10.2)\n",
            "Requirement already satisfied: pandocfilters>=1.4.1 in /usr/local/lib/python3.11/dist-packages (from nbconvert>=5->notebook>=4.4.1->widgetsnbextension~=3.6.0->ipywidgets>=7.3.0->qiskit-terra[visualization]; extra == \"visualization\"->qiskit[visualization]) (1.5.1)\n",
            "Requirement already satisfied: fastjsonschema>=2.15 in /usr/local/lib/python3.11/dist-packages (from nbformat->notebook>=4.4.1->widgetsnbextension~=3.6.0->ipywidgets>=7.3.0->qiskit-terra[visualization]; extra == \"visualization\"->qiskit[visualization]) (2.21.1)\n",
            "Requirement already satisfied: jsonschema>=2.6 in /usr/local/lib/python3.11/dist-packages (from nbformat->notebook>=4.4.1->widgetsnbextension~=3.6.0->ipywidgets>=7.3.0->qiskit-terra[visualization]; extra == \"visualization\"->qiskit[visualization]) (4.23.0)\n",
            "Requirement already satisfied: argon2-cffi-bindings in /usr/local/lib/python3.11/dist-packages (from argon2-cffi->notebook>=4.4.1->widgetsnbextension~=3.6.0->ipywidgets>=7.3.0->qiskit-terra[visualization]; extra == \"visualization\"->qiskit[visualization]) (21.2.0)\n",
            "Requirement already satisfied: webencodings in /usr/local/lib/python3.11/dist-packages (from bleach!=5.0.0->bleach[css]!=5.0.0->nbconvert>=5->notebook>=4.4.1->widgetsnbextension~=3.6.0->ipywidgets>=7.3.0->qiskit-terra[visualization]; extra == \"visualization\"->qiskit[visualization]) (0.5.1)\n",
            "Requirement already satisfied: tinycss2<1.5,>=1.1.0 in /usr/local/lib/python3.11/dist-packages (from bleach[css]!=5.0.0->nbconvert>=5->notebook>=4.4.1->widgetsnbextension~=3.6.0->ipywidgets>=7.3.0->qiskit-terra[visualization]; extra == \"visualization\"->qiskit[visualization]) (1.4.0)\n",
            "Requirement already satisfied: attrs>=22.2.0 in /usr/local/lib/python3.11/dist-packages (from jsonschema>=2.6->nbformat->notebook>=4.4.1->widgetsnbextension~=3.6.0->ipywidgets>=7.3.0->qiskit-terra[visualization]; extra == \"visualization\"->qiskit[visualization]) (25.3.0)\n",
            "Requirement already satisfied: jsonschema-specifications>=2023.03.6 in /usr/local/lib/python3.11/dist-packages (from jsonschema>=2.6->nbformat->notebook>=4.4.1->widgetsnbextension~=3.6.0->ipywidgets>=7.3.0->qiskit-terra[visualization]; extra == \"visualization\"->qiskit[visualization]) (2024.10.1)\n",
            "Requirement already satisfied: referencing>=0.28.4 in /usr/local/lib/python3.11/dist-packages (from jsonschema>=2.6->nbformat->notebook>=4.4.1->widgetsnbextension~=3.6.0->ipywidgets>=7.3.0->qiskit-terra[visualization]; extra == \"visualization\"->qiskit[visualization]) (0.36.2)\n",
            "Requirement already satisfied: rpds-py>=0.7.1 in /usr/local/lib/python3.11/dist-packages (from jsonschema>=2.6->nbformat->notebook>=4.4.1->widgetsnbextension~=3.6.0->ipywidgets>=7.3.0->qiskit-terra[visualization]; extra == \"visualization\"->qiskit[visualization]) (0.24.0)\n",
            "Requirement already satisfied: jupyter-server<3,>=1.8 in /usr/local/lib/python3.11/dist-packages (from notebook-shim>=0.2.3->nbclassic>=0.4.7->notebook>=4.4.1->widgetsnbextension~=3.6.0->ipywidgets>=7.3.0->qiskit-terra[visualization]; extra == \"visualization\"->qiskit[visualization]) (1.16.0)\n",
            "Requirement already satisfied: cffi>=1.0.1 in /usr/local/lib/python3.11/dist-packages (from argon2-cffi-bindings->argon2-cffi->notebook>=4.4.1->widgetsnbextension~=3.6.0->ipywidgets>=7.3.0->qiskit-terra[visualization]; extra == \"visualization\"->qiskit[visualization]) (1.17.1)\n",
            "Requirement already satisfied: soupsieve>1.2 in /usr/local/lib/python3.11/dist-packages (from beautifulsoup4->nbconvert>=5->notebook>=4.4.1->widgetsnbextension~=3.6.0->ipywidgets>=7.3.0->qiskit-terra[visualization]; extra == \"visualization\"->qiskit[visualization]) (2.6)\n",
            "Requirement already satisfied: typing-extensions>=4.0.0 in /usr/local/lib/python3.11/dist-packages (from beautifulsoup4->nbconvert>=5->notebook>=4.4.1->widgetsnbextension~=3.6.0->ipywidgets>=7.3.0->qiskit-terra[visualization]; extra == \"visualization\"->qiskit[visualization]) (4.13.2)\n",
            "Requirement already satisfied: pycparser in /usr/local/lib/python3.11/dist-packages (from cffi>=1.0.1->argon2-cffi-bindings->argon2-cffi->notebook>=4.4.1->widgetsnbextension~=3.6.0->ipywidgets>=7.3.0->qiskit-terra[visualization]; extra == \"visualization\"->qiskit[visualization]) (2.22)\n",
            "Requirement already satisfied: anyio>=3.1.0 in /usr/local/lib/python3.11/dist-packages (from jupyter-server<3,>=1.8->notebook-shim>=0.2.3->nbclassic>=0.4.7->notebook>=4.4.1->widgetsnbextension~=3.6.0->ipywidgets>=7.3.0->qiskit-terra[visualization]; extra == \"visualization\"->qiskit[visualization]) (4.9.0)\n",
            "Requirement already satisfied: websocket-client in /usr/local/lib/python3.11/dist-packages (from jupyter-server<3,>=1.8->notebook-shim>=0.2.3->nbclassic>=0.4.7->notebook>=4.4.1->widgetsnbextension~=3.6.0->ipywidgets>=7.3.0->qiskit-terra[visualization]; extra == \"visualization\"->qiskit[visualization]) (1.8.0)\n",
            "Requirement already satisfied: idna>=2.8 in /usr/local/lib/python3.11/dist-packages (from anyio>=3.1.0->jupyter-server<3,>=1.8->notebook-shim>=0.2.3->nbclassic>=0.4.7->notebook>=4.4.1->widgetsnbextension~=3.6.0->ipywidgets>=7.3.0->qiskit-terra[visualization]; extra == \"visualization\"->qiskit[visualization]) (3.10)\n",
            "Requirement already satisfied: sniffio>=1.1 in /usr/local/lib/python3.11/dist-packages (from anyio>=3.1.0->jupyter-server<3,>=1.8->notebook-shim>=0.2.3->nbclassic>=0.4.7->notebook>=4.4.1->widgetsnbextension~=3.6.0->ipywidgets>=7.3.0->qiskit-terra[visualization]; extra == \"visualization\"->qiskit[visualization]) (1.3.1)\n",
            "Downloading jedi-0.19.2-py2.py3-none-any.whl (1.6 MB)\n",
            "\u001b[2K   \u001b[90m━━━━━━━━━━━━━━━━━━━━━━━━━━━━━━━━━━━━━━━━\u001b[0m \u001b[32m1.6/1.6 MB\u001b[0m \u001b[31m16.6 MB/s\u001b[0m eta \u001b[36m0:00:00\u001b[0m\n",
            "\u001b[?25hInstalling collected packages: jedi\n",
            "Successfully installed jedi-0.19.2\n"
          ]
        }
      ]
    },
    {
      "cell_type": "code",
      "source": [
        "feature_map = ZZFeatureMap(feature_dimension=2, reps=2)\n",
        "feature_map.barrier()\n",
        "var_form = TwoLocal(2, ['ry', 'rz'], 'cz', reps=2)\n",
        "\n",
        "ad_hoc_circuit = feature_map.compose(var_form)\n",
        "ad_hoc_circuit.measure_all()\n",
        "ad_hoc_circuit.decompose().draw(output=\"text\", style=\"iqp\")"
      ],
      "metadata": {
        "colab": {
          "base_uri": "https://localhost:8080/",
          "height": 448
        },
        "id": "qMiocjjUP26i",
        "outputId": "7aea8439-fee3-4b68-eac3-7aa2f559e4b3"
      },
      "execution_count": 10,
      "outputs": [
        {
          "output_type": "execute_result",
          "data": {
            "text/plain": [
              "        ┌───┐┌─────────────┐                                          ┌───┐»\n",
              "   q_0: ┤ H ├┤ P(2.0*x[0]) ├──■────────────────────────────────────■──┤ H ├»\n",
              "        ├───┤├─────────────┤┌─┴─┐┌──────────────────────────────┐┌─┴─┐├───┤»\n",
              "   q_1: ┤ H ├┤ P(2.0*x[1]) ├┤ X ├┤ P(2.0*(π - x[0])*(π - x[1])) ├┤ X ├┤ H ├»\n",
              "        └───┘└─────────────┘└───┘└──────────────────────────────┘└───┘└───┘»\n",
              "meas: 2/═══════════════════════════════════════════════════════════════════»\n",
              "                                                                           »\n",
              "«        ┌─────────────┐                                           ░ »\n",
              "«   q_0: ┤ P(2.0*x[0]) ├──■────────────────────────────────────■───░─»\n",
              "«        ├─────────────┤┌─┴─┐┌──────────────────────────────┐┌─┴─┐ ░ »\n",
              "«   q_1: ┤ P(2.0*x[1]) ├┤ X ├┤ P(2.0*(π - x[0])*(π - x[1])) ├┤ X ├─░─»\n",
              "«        └─────────────┘└───┘└──────────────────────────────┘└───┘ ░ »\n",
              "«meas: 2/════════════════════════════════════════════════════════════»\n",
              "«                                                                    »\n",
              "«        ┌──────────┐┌──────────┐   ┌──────────┐┌──────────┐   ┌──────────┐»\n",
              "«   q_0: ┤ Ry(θ[0]) ├┤ Rz(θ[2]) ├─■─┤ Ry(θ[4]) ├┤ Rz(θ[6]) ├─■─┤ Ry(θ[8]) ├»\n",
              "«        ├──────────┤├──────────┤ │ ├──────────┤├──────────┤ │ ├──────────┤»\n",
              "«   q_1: ┤ Ry(θ[1]) ├┤ Rz(θ[3]) ├─■─┤ Ry(θ[5]) ├┤ Rz(θ[7]) ├─■─┤ Ry(θ[9]) ├»\n",
              "«        └──────────┘└──────────┘   └──────────┘└──────────┘   └──────────┘»\n",
              "«meas: 2/══════════════════════════════════════════════════════════════════»\n",
              "«                                                                          »\n",
              "«        ┌───────────┐ ░ ┌─┐   \n",
              "«   q_0: ┤ Rz(θ[10]) ├─░─┤M├───\n",
              "«        ├───────────┤ ░ └╥┘┌─┐\n",
              "«   q_1: ┤ Rz(θ[11]) ├─░──╫─┤M├\n",
              "«        └───────────┘ ░  ║ └╥┘\n",
              "«meas: 2/═════════════════╩══╩═\n",
              "«                         0  1 "
            ],
            "text/html": [
              "<pre style=\"word-wrap: normal;white-space: pre;background: #fff0;line-height: 1.1;font-family: &quot;Courier New&quot;,Courier,monospace\">        ┌───┐┌─────────────┐                                          ┌───┐»\n",
              "   q_0: ┤ H ├┤ P(2.0*x[0]) ├──■────────────────────────────────────■──┤ H ├»\n",
              "        ├───┤├─────────────┤┌─┴─┐┌──────────────────────────────┐┌─┴─┐├───┤»\n",
              "   q_1: ┤ H ├┤ P(2.0*x[1]) ├┤ X ├┤ P(2.0*(π - x[0])*(π - x[1])) ├┤ X ├┤ H ├»\n",
              "        └───┘└─────────────┘└───┘└──────────────────────────────┘└───┘└───┘»\n",
              "meas: 2/═══════════════════════════════════════════════════════════════════»\n",
              "                                                                           »\n",
              "«        ┌─────────────┐                                           ░ »\n",
              "«   q_0: ┤ P(2.0*x[0]) ├──■────────────────────────────────────■───░─»\n",
              "«        ├─────────────┤┌─┴─┐┌──────────────────────────────┐┌─┴─┐ ░ »\n",
              "«   q_1: ┤ P(2.0*x[1]) ├┤ X ├┤ P(2.0*(π - x[0])*(π - x[1])) ├┤ X ├─░─»\n",
              "«        └─────────────┘└───┘└──────────────────────────────┘└───┘ ░ »\n",
              "«meas: 2/════════════════════════════════════════════════════════════»\n",
              "«                                                                    »\n",
              "«        ┌──────────┐┌──────────┐   ┌──────────┐┌──────────┐   ┌──────────┐»\n",
              "«   q_0: ┤ Ry(θ[0]) ├┤ Rz(θ[2]) ├─■─┤ Ry(θ[4]) ├┤ Rz(θ[6]) ├─■─┤ Ry(θ[8]) ├»\n",
              "«        ├──────────┤├──────────┤ │ ├──────────┤├──────────┤ │ ├──────────┤»\n",
              "«   q_1: ┤ Ry(θ[1]) ├┤ Rz(θ[3]) ├─■─┤ Ry(θ[5]) ├┤ Rz(θ[7]) ├─■─┤ Ry(θ[9]) ├»\n",
              "«        └──────────┘└──────────┘   └──────────┘└──────────┘   └──────────┘»\n",
              "«meas: 2/══════════════════════════════════════════════════════════════════»\n",
              "«                                                                          »\n",
              "«        ┌───────────┐ ░ ┌─┐   \n",
              "«   q_0: ┤ Rz(θ[10]) ├─░─┤M├───\n",
              "«        ├───────────┤ ░ └╥┘┌─┐\n",
              "«   q_1: ┤ Rz(θ[11]) ├─░──╫─┤M├\n",
              "«        └───────────┘ ░  ║ └╥┘\n",
              "«meas: 2/═════════════════╩══╩═\n",
              "«                         0  1 </pre>"
            ]
          },
          "metadata": {},
          "execution_count": 10
        }
      ]
    },
    {
      "cell_type": "code",
      "source": [
        "def circuit_instance(data, variational):\n",
        "    \"\"\"Assigns parameter values to `AD_HOC_CIRCUIT`.\n",
        "    Args:\n",
        "        data (list): Data values for the feature map\n",
        "        variational (list): Parameter values for `VAR_FORM`\n",
        "    Returns:\n",
        "        QuantumCircuit: `AD_HOC_CIRCUIT` with parameters assigned\n",
        "    \"\"\"\n",
        "    parameters = {}\n",
        "    for i, p in enumerate(feature_map.ordered_parameters):\n",
        "        parameters[p] = data[i]\n",
        "    for i, p in enumerate(var_form.ordered_parameters):\n",
        "        parameters[p] = variational[i]\n",
        "    return ad_hoc_circuit.assign_parameters(parameters)\n",
        "\n",
        "\n",
        "def parity(bitstring):\n",
        "    \"\"\"Returns 1 if parity of `bitstring` is even, otherwise 0.\"\"\"\n",
        "    hamming_weight = sum(int(k) for k in list(bitstring))\n",
        "    return (hamming_weight+1) % 2\n",
        "\n",
        "\n",
        "def label_probability(results, num_qubits=2):\n",
        "    \"\"\"Convert integer bitstrings to padded binary strings and compute parity.\"\"\"\n",
        "    shots = sum(results.values())\n",
        "    probabilities = {0: 0, 1: 0}\n",
        "    for bitstring, counts in results.items():\n",
        "        # Convert int to binary string with leading zeros\n",
        "        bin_str = format(bitstring, f\"0{num_qubits}b\")\n",
        "        label = parity(bin_str)\n",
        "        probabilities[label] += counts / shots\n",
        "    return probabilities\n",
        "\n",
        "\n",
        "def classification_probability(data, variational):\n",
        "    circuits = [circuit_instance(d, variational) for d in data]\n",
        "    sampler = Sampler()\n",
        "    result = sampler.run(circuits).result()\n",
        "\n",
        "    classification = []\n",
        "    for quasi_dist in result.quasi_dists:\n",
        "        # Convert float probabilities to pseudo-counts for label_probability\n",
        "        total_shots = 1024  # you can scale probabilities into counts\n",
        "        counts = {k: int(v * total_shots) for k, v in quasi_dist.items()}\n",
        "        classification.append(label_probability(counts))\n",
        "    return classification\n",
        "\n",
        "\n",
        "def cross_entropy_loss(classification, expected):\n",
        "    \"\"\"Calculate accuracy of predictions using cross entropy loss.\n",
        "    Args:\n",
        "        classification (dict): Dict where keys are possible classes,\n",
        "                               and values are the probability our\n",
        "                               circuit chooses that class.\n",
        "        expected (int): Correct classification of the data point.\n",
        "\n",
        "    Returns:\n",
        "        float: Cross entropy loss\n",
        "    \"\"\"\n",
        "    p = classification.get(expected)  # Prob. of correct classification\n",
        "    return -np.log(p + 1e-10)\n",
        "\n",
        "\n",
        "def cost_function(data, labels, variational):\n",
        "    \"\"\"Evaluates performance of our circuit with `variational`\n",
        "    parameters on `data`.\n",
        "\n",
        "    Args:\n",
        "        data (list): List of data points to classify\n",
        "        labels (list): List of correct labels for each data point\n",
        "        variational (list): Parameters to use in circuit\n",
        "\n",
        "    Returns:\n",
        "        float: Cost (metric of performance)\n",
        "    \"\"\"\n",
        "    classifications = classification_probability(data, variational)\n",
        "    cost = 0\n",
        "    for i, classification in enumerate(classifications):\n",
        "        cost += cross_entropy_loss(classification, labels[i])\n",
        "    cost /= len(data)\n",
        "    return cost\n",
        "\n",
        "\n",
        "def objective_function(variational):\n",
        "    \"\"\"Cost function of circuit parameters on training data.\n",
        "    The optimizer will attempt to minimize this.\"\"\"\n",
        "    return cost_function(train_data, train_labels, variational)"
      ],
      "metadata": {
        "id": "bA_jP0qLQZnI"
      },
      "execution_count": 18,
      "outputs": []
    },
    {
      "cell_type": "code",
      "source": [
        "class OptimizerLog:\n",
        "    \"\"\"Log to store optimizer's intermediate results\"\"\"\n",
        "    def __init__(self):\n",
        "        self.evaluations = []\n",
        "        self.parameters = []\n",
        "        self.costs = []\n",
        "    def update(self, evaluation, parameter, cost, _stepsize, _accept):\n",
        "        \"\"\"Save intermediate results. Optimizer passes five values\n",
        "        but we ignore the last two.\"\"\"\n",
        "        self.evaluations.append(evaluation)\n",
        "        self.parameters.append(parameter)\n",
        "        self.costs.append(cost)\n",
        "\n",
        "# Set up the optimization\n",
        "\n",
        "log = OptimizerLog()\n",
        "optimizer = SPSA(maxiter=100, callback=log.update)\n",
        "\n",
        "initial_point = np.zeros((var_form.num_parameters))\n",
        "\n",
        "# Run the optimization\n",
        "result = optimizer.minimize(objective_function, initial_point)\n",
        "\n",
        "opt_var = result.x\n",
        "opt_value = result.fun\n",
        "\n",
        "fig = plt.figure()\n",
        "plt.plot(log.evaluations, log.costs)\n",
        "plt.xlabel('Steps')\n",
        "plt.ylabel('Cost')\n",
        "plt.show()"
      ],
      "metadata": {
        "colab": {
          "base_uri": "https://localhost:8080/",
          "height": 449
        },
        "id": "yOo7XqesQZjp",
        "outputId": "7e4e33c7-edeb-4e9c-dfd1-8ff0eefc0042"
      },
      "execution_count": 19,
      "outputs": [
        {
          "output_type": "display_data",
          "data": {
            "text/plain": [
              "<Figure size 640x480 with 1 Axes>"
            ],
            "image/png": "[encoded data removed]"
          },
          "metadata": {}
        }
      ]
    },
    {
      "cell_type": "code",
      "source": [
        "def test_classifier(data, labels, variational):\n",
        "    \"\"\"Gets classifier's most likely predictions and accuracy of those\n",
        "    predictions.\n",
        "\n",
        "    Args:\n",
        "        data (list): List of data points to classify\n",
        "        labels (list): List of correct labels for each data point\n",
        "        variational (list): List of parameter values for classifier\n",
        "\n",
        "    Returns:\n",
        "        float: Average accuracy of classifier over `data`\n",
        "        list: Classifier's label predictions for each data point\n",
        "    \"\"\"\n",
        "    probability = classification_probability(data, variational)\n",
        "    predictions = [0 if p[0] >= p[1] else 1 for p in probability]\n",
        "    accuracy = 0\n",
        "\n",
        "    for i, prediction in enumerate(predictions):\n",
        "        if prediction == labels[i]:\n",
        "            accuracy += 1\n",
        "    accuracy /= len(labels)\n",
        "    return accuracy, predictions\n",
        "\n",
        "accuracy, predictions = test_classifier(test_data, test_labels, opt_var)\n",
        "accuracy"
      ],
      "metadata": {
        "colab": {
          "base_uri": "https://localhost:8080/"
        },
        "id": "Om14FJdVQZgL",
        "outputId": "dc38050a-f938-4f7d-950d-01a7b0b56f15"
      },
      "execution_count": 20,
      "outputs": [
        {
          "output_type": "execute_result",
          "data": {
            "text/plain": [
              "1.0"
            ]
          },
          "metadata": {},
          "execution_count": 20
        }
      ]
    },
    {
      "cell_type": "code",
      "source": [
        "plt.figure(figsize=(9, 6))\n",
        "\n",
        "for feature, label in zip(train_data, train_labels):\n",
        "    COLOR = 'C0' if label == 0 else 'C1'\n",
        "    plt.scatter(feature[0], feature[1],\n",
        "                marker='o', s=100, color=COLOR)\n",
        "\n",
        "for feature, label, pred in zip(test_data, test_labels, predictions):\n",
        "    COLOR = 'C0' if pred == 0 else 'C1'\n",
        "    plt.scatter(feature[0], feature[1],\n",
        "                marker='s', s=100, color=COLOR)\n",
        "    if label != pred:  # mark wrongly classified\n",
        "        plt.scatter(feature[0], feature[1], marker='o', s=500,\n",
        "                    linewidths=2.5, facecolor='none', edgecolor='C3')\n",
        "\n",
        "legend_elements = [\n",
        "    Line2D([0], [0], marker='o', c='w', mfc='C1', label='A', ms=10),\n",
        "    Line2D([0], [0], marker='o', c='w', mfc='C0', label='B', ms=10),\n",
        "    Line2D([0], [0], marker='s', c='w', mfc='C1', label='predict A',\n",
        "           ms=10),\n",
        "    Line2D([0], [0], marker='s', c='w', mfc='C0', label='predict B',\n",
        "           ms=10),\n",
        "    Line2D([0], [0], marker='o', c='w', mfc='none', mec='C3',\n",
        "           label='wrongly classified', mew=2, ms=15)\n",
        "]\n",
        "\n",
        "plt.legend(handles=legend_elements, bbox_to_anchor=(1, 1),\n",
        "           loc='upper left')\n",
        "\n",
        "plt.title('Training & Test Data')\n",
        "plt.xlabel('x')\n",
        "plt.ylabel('y')\n",
        "plt.show()"
      ],
      "metadata": {
        "colab": {
          "base_uri": "https://localhost:8080/",
          "height": 564
        },
        "id": "ScvITawIQZcq",
        "outputId": "c2858435-c309-4921-e916-191e867b68d3"
      },
      "execution_count": 21,
      "outputs": [
        {
          "output_type": "display_data",
          "data": {
            "text/plain": [
              "<Figure size 900x600 with 1 Axes>"
            ],
            "image/png": "[encoded data removed]"
          },
          "metadata": {}
        }
      ]
    },
    {
      "cell_type": "code",
      "source": [
        "! pip freeze | grep qiskit"
      ],
      "metadata": {
        "colab": {
          "base_uri": "https://localhost:8080/"
        },
        "id": "k4u_ceLbQZaA",
        "outputId": "653e8c15-2b40-4e30-c8d5-5ab886aaf202"
      },
      "execution_count": 22,
      "outputs": [
        {
          "output_type": "stream",
          "name": "stdout",
          "text": [
            "qiskit==0.45.2\n",
            "qiskit-algorithms==0.2.1\n",
            "qiskit-machine-learning==0.6.1\n",
            "qiskit-optimization==0.6.0\n",
            "qiskit-terra==0.45.2\n"
          ]
        }
      ]
    }
  ]
}