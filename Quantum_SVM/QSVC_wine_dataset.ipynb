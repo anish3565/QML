{
  "nbformat": 4,
  "nbformat_minor": 0,
  "metadata": {
    "colab": {
      "provenance": [],
      "authorship_tag": "ABX9TyOfuArg3BX4atVR2behvf2P",
      "include_colab_link": true
    },
    "kernelspec": {
      "name": "python3",
      "display_name": "Python 3"
    },
    "language_info": {
      "name": "python"
    }
  },
  "cells": [
    {
      "cell_type": "markdown",
      "metadata": {
        "id": "view-in-github",
        "colab_type": "text"
      },
      "source": [
        "<a href=\"https://colab.research.google.com/github/anish3565/QML/blob/main/Quantum_SVM/QSVC_wine_dataset.ipynb\" target=\"_parent\"><img src=\"https://colab.research.google.com/assets/colab-badge.svg\" alt=\"Open In Colab\"/></a>"
      ]
    },
    {
      "cell_type": "code",
      "source": [
        "!pip install qiskit\n",
        "!pip install qiskit-algorithms"
      ],
      "metadata": {
        "colab": {
          "base_uri": "https://localhost:8080/"
        },
        "collapsed": true,
        "id": "KgkC-nkwZTB9",
        "outputId": "3a333edc-1ebd-420f-a0bc-108e8a584c66"
      },
      "execution_count": null,
      "outputs": [
        {
          "output_type": "stream",
          "name": "stdout",
          "text": [
            "Collecting qiskit\n",
            "  Downloading qiskit-1.3.2-cp39-abi3-manylinux_2_17_x86_64.manylinux2014_x86_64.whl.metadata (12 kB)\n",
            "Collecting rustworkx>=0.15.0 (from qiskit)\n",
            "  Downloading rustworkx-0.16.0-cp39-abi3-manylinux_2_17_x86_64.manylinux2014_x86_64.whl.metadata (10 kB)\n",
            "Requirement already satisfied: numpy<3,>=1.17 in /usr/local/lib/python3.11/dist-packages (from qiskit) (1.26.4)\n",
            "Requirement already satisfied: scipy>=1.5 in /usr/local/lib/python3.11/dist-packages (from qiskit) (1.13.1)\n",
            "Requirement already satisfied: sympy>=1.3 in /usr/local/lib/python3.11/dist-packages (from qiskit) (1.13.1)\n",
            "Collecting dill>=0.3 (from qiskit)\n",
            "  Downloading dill-0.3.9-py3-none-any.whl.metadata (10 kB)\n",
            "Requirement already satisfied: python-dateutil>=2.8.0 in /usr/local/lib/python3.11/dist-packages (from qiskit) (2.8.2)\n",
            "Collecting stevedore>=3.0.0 (from qiskit)\n",
            "  Downloading stevedore-5.4.0-py3-none-any.whl.metadata (2.3 kB)\n",
            "Requirement already satisfied: typing-extensions in /usr/local/lib/python3.11/dist-packages (from qiskit) (4.12.2)\n",
            "Collecting symengine<0.14,>=0.11 (from qiskit)\n",
            "  Downloading symengine-0.13.0-cp311-cp311-manylinux_2_17_x86_64.manylinux2014_x86_64.whl.metadata (1.2 kB)\n",
            "Requirement already satisfied: six>=1.5 in /usr/local/lib/python3.11/dist-packages (from python-dateutil>=2.8.0->qiskit) (1.17.0)\n",
            "Collecting pbr>=2.0.0 (from stevedore>=3.0.0->qiskit)\n",
            "  Downloading pbr-6.1.1-py2.py3-none-any.whl.metadata (3.4 kB)\n",
            "Requirement already satisfied: mpmath<1.4,>=1.1.0 in /usr/local/lib/python3.11/dist-packages (from sympy>=1.3->qiskit) (1.3.0)\n",
            "Requirement already satisfied: setuptools in /usr/local/lib/python3.11/dist-packages (from pbr>=2.0.0->stevedore>=3.0.0->qiskit) (75.1.0)\n",
            "Downloading qiskit-1.3.2-cp39-abi3-manylinux_2_17_x86_64.manylinux2014_x86_64.whl (6.8 MB)\n",
            "\u001b[2K   \u001b[90m━━━━━━━━━━━━━━━━━━━━━━━━━━━━━━━━━━━━━━━━\u001b[0m \u001b[32m6.8/6.8 MB\u001b[0m \u001b[31m17.3 MB/s\u001b[0m eta \u001b[36m0:00:00\u001b[0m\n",
            "\u001b[?25hDownloading dill-0.3.9-py3-none-any.whl (119 kB)\n",
            "\u001b[2K   \u001b[90m━━━━━━━━━━━━━━━━━━━━━━━━━━━━━━━━━━━━━━━━\u001b[0m \u001b[32m119.4/119.4 kB\u001b[0m \u001b[31m5.0 MB/s\u001b[0m eta \u001b[36m0:00:00\u001b[0m\n",
            "\u001b[?25hDownloading rustworkx-0.16.0-cp39-abi3-manylinux_2_17_x86_64.manylinux2014_x86_64.whl (2.1 MB)\n",
            "\u001b[2K   \u001b[90m━━━━━━━━━━━━━━━━━━━━━━━━━━━━━━━━━━━━━━━━\u001b[0m \u001b[32m2.1/2.1 MB\u001b[0m \u001b[31m9.9 MB/s\u001b[0m eta \u001b[36m0:00:00\u001b[0m\n",
            "\u001b[?25hDownloading stevedore-5.4.0-py3-none-any.whl (49 kB)\n",
            "\u001b[2K   \u001b[90m━━━━━━━━━━━━━━━━━━━━━━━━━━━━━━━━━━━━━━━━\u001b[0m \u001b[32m49.5/49.5 kB\u001b[0m \u001b[31m1.7 MB/s\u001b[0m eta \u001b[36m0:00:00\u001b[0m\n",
            "\u001b[?25hDownloading symengine-0.13.0-cp311-cp311-manylinux_2_17_x86_64.manylinux2014_x86_64.whl (49.7 MB)\n",
            "\u001b[2K   \u001b[90m━━━━━━━━━━━━━━━━━━━━━━━━━━━━━━━━━━━━━━━━\u001b[0m \u001b[32m49.7/49.7 MB\u001b[0m \u001b[31m7.5 MB/s\u001b[0m eta \u001b[36m0:00:00\u001b[0m\n",
            "\u001b[?25hDownloading pbr-6.1.1-py2.py3-none-any.whl (108 kB)\n",
            "\u001b[2K   \u001b[90m━━━━━━━━━━━━━━━━━━━━━━━━━━━━━━━━━━━━━━━━\u001b[0m \u001b[32m109.0/109.0 kB\u001b[0m \u001b[31m3.5 MB/s\u001b[0m eta \u001b[36m0:00:00\u001b[0m\n",
            "\u001b[?25hInstalling collected packages: symengine, rustworkx, pbr, dill, stevedore, qiskit\n",
            "Successfully installed dill-0.3.9 pbr-6.1.1 qiskit-1.3.2 rustworkx-0.16.0 stevedore-5.4.0 symengine-0.13.0\n",
            "Collecting qiskit-algorithms\n",
            "  Downloading qiskit_algorithms-0.3.1-py3-none-any.whl.metadata (4.2 kB)\n",
            "Requirement already satisfied: qiskit>=0.44 in /usr/local/lib/python3.11/dist-packages (from qiskit-algorithms) (1.3.2)\n",
            "Requirement already satisfied: scipy>=1.4 in /usr/local/lib/python3.11/dist-packages (from qiskit-algorithms) (1.13.1)\n",
            "Requirement already satisfied: numpy>=1.17 in /usr/local/lib/python3.11/dist-packages (from qiskit-algorithms) (1.26.4)\n",
            "Requirement already satisfied: rustworkx>=0.15.0 in /usr/local/lib/python3.11/dist-packages (from qiskit>=0.44->qiskit-algorithms) (0.16.0)\n",
            "Requirement already satisfied: sympy>=1.3 in /usr/local/lib/python3.11/dist-packages (from qiskit>=0.44->qiskit-algorithms) (1.13.1)\n",
            "Requirement already satisfied: dill>=0.3 in /usr/local/lib/python3.11/dist-packages (from qiskit>=0.44->qiskit-algorithms) (0.3.9)\n",
            "Requirement already satisfied: python-dateutil>=2.8.0 in /usr/local/lib/python3.11/dist-packages (from qiskit>=0.44->qiskit-algorithms) (2.8.2)\n",
            "Requirement already satisfied: stevedore>=3.0.0 in /usr/local/lib/python3.11/dist-packages (from qiskit>=0.44->qiskit-algorithms) (5.4.0)\n",
            "Requirement already satisfied: typing-extensions in /usr/local/lib/python3.11/dist-packages (from qiskit>=0.44->qiskit-algorithms) (4.12.2)\n",
            "Requirement already satisfied: symengine<0.14,>=0.11 in /usr/local/lib/python3.11/dist-packages (from qiskit>=0.44->qiskit-algorithms) (0.13.0)\n",
            "Requirement already satisfied: six>=1.5 in /usr/local/lib/python3.11/dist-packages (from python-dateutil>=2.8.0->qiskit>=0.44->qiskit-algorithms) (1.17.0)\n",
            "Requirement already satisfied: pbr>=2.0.0 in /usr/local/lib/python3.11/dist-packages (from stevedore>=3.0.0->qiskit>=0.44->qiskit-algorithms) (6.1.1)\n",
            "Requirement already satisfied: mpmath<1.4,>=1.1.0 in /usr/local/lib/python3.11/dist-packages (from sympy>=1.3->qiskit>=0.44->qiskit-algorithms) (1.3.0)\n",
            "Requirement already satisfied: setuptools in /usr/local/lib/python3.11/dist-packages (from pbr>=2.0.0->stevedore>=3.0.0->qiskit>=0.44->qiskit-algorithms) (75.1.0)\n",
            "Downloading qiskit_algorithms-0.3.1-py3-none-any.whl (310 kB)\n",
            "\u001b[2K   \u001b[90m━━━━━━━━━━━━━━━━━━━━━━━━━━━━━━━━━━━━━━━━\u001b[0m \u001b[32m310.5/310.5 kB\u001b[0m \u001b[31m3.5 MB/s\u001b[0m eta \u001b[36m0:00:00\u001b[0m\n",
            "\u001b[?25hInstalling collected packages: qiskit-algorithms\n",
            "Successfully installed qiskit-algorithms-0.3.1\n"
          ]
        }
      ]
    },
    {
      "cell_type": "code",
      "source": [
        "!pip install qiskit_machine_learning"
      ],
      "metadata": {
        "colab": {
          "base_uri": "https://localhost:8080/"
        },
        "collapsed": true,
        "id": "dQJiXzvGaJvc",
        "outputId": "95bd7a22-c265-4f5f-832c-17979ef39492"
      },
      "execution_count": null,
      "outputs": [
        {
          "output_type": "stream",
          "name": "stdout",
          "text": [
            "Collecting qiskit_machine_learning\n",
            "  Downloading qiskit_machine_learning-0.8.2-py3-none-any.whl.metadata (13 kB)\n",
            "Requirement already satisfied: qiskit>=1.0 in /usr/local/lib/python3.11/dist-packages (from qiskit_machine_learning) (1.3.2)\n",
            "Requirement already satisfied: scipy>=1.4 in /usr/local/lib/python3.11/dist-packages (from qiskit_machine_learning) (1.13.1)\n",
            "Requirement already satisfied: numpy>=1.17 in /usr/local/lib/python3.11/dist-packages (from qiskit_machine_learning) (1.26.4)\n",
            "Requirement already satisfied: psutil>=5 in /usr/local/lib/python3.11/dist-packages (from qiskit_machine_learning) (5.9.5)\n",
            "Requirement already satisfied: scikit-learn>=1.2 in /usr/local/lib/python3.11/dist-packages (from qiskit_machine_learning) (1.6.1)\n",
            "Requirement already satisfied: setuptools>=40.1 in /usr/local/lib/python3.11/dist-packages (from qiskit_machine_learning) (75.1.0)\n",
            "Requirement already satisfied: dill>=0.3.4 in /usr/local/lib/python3.11/dist-packages (from qiskit_machine_learning) (0.3.9)\n",
            "Requirement already satisfied: rustworkx>=0.15.0 in /usr/local/lib/python3.11/dist-packages (from qiskit>=1.0->qiskit_machine_learning) (0.16.0)\n",
            "Requirement already satisfied: sympy>=1.3 in /usr/local/lib/python3.11/dist-packages (from qiskit>=1.0->qiskit_machine_learning) (1.13.1)\n",
            "Requirement already satisfied: python-dateutil>=2.8.0 in /usr/local/lib/python3.11/dist-packages (from qiskit>=1.0->qiskit_machine_learning) (2.8.2)\n",
            "Requirement already satisfied: stevedore>=3.0.0 in /usr/local/lib/python3.11/dist-packages (from qiskit>=1.0->qiskit_machine_learning) (5.4.0)\n",
            "Requirement already satisfied: typing-extensions in /usr/local/lib/python3.11/dist-packages (from qiskit>=1.0->qiskit_machine_learning) (4.12.2)\n",
            "Requirement already satisfied: symengine<0.14,>=0.11 in /usr/local/lib/python3.11/dist-packages (from qiskit>=1.0->qiskit_machine_learning) (0.13.0)\n",
            "Requirement already satisfied: joblib>=1.2.0 in /usr/local/lib/python3.11/dist-packages (from scikit-learn>=1.2->qiskit_machine_learning) (1.4.2)\n",
            "Requirement already satisfied: threadpoolctl>=3.1.0 in /usr/local/lib/python3.11/dist-packages (from scikit-learn>=1.2->qiskit_machine_learning) (3.5.0)\n",
            "Requirement already satisfied: six>=1.5 in /usr/local/lib/python3.11/dist-packages (from python-dateutil>=2.8.0->qiskit>=1.0->qiskit_machine_learning) (1.17.0)\n",
            "Requirement already satisfied: pbr>=2.0.0 in /usr/local/lib/python3.11/dist-packages (from stevedore>=3.0.0->qiskit>=1.0->qiskit_machine_learning) (6.1.1)\n",
            "Requirement already satisfied: mpmath<1.4,>=1.1.0 in /usr/local/lib/python3.11/dist-packages (from sympy>=1.3->qiskit>=1.0->qiskit_machine_learning) (1.3.0)\n",
            "Downloading qiskit_machine_learning-0.8.2-py3-none-any.whl (231 kB)\n",
            "\u001b[2K   \u001b[90m━━━━━━━━━━━━━━━━━━━━━━━━━━━━━━━━━━━━━━━━\u001b[0m \u001b[32m231.6/231.6 kB\u001b[0m \u001b[31m3.6 MB/s\u001b[0m eta \u001b[36m0:00:00\u001b[0m\n",
            "\u001b[?25hInstalling collected packages: qiskit_machine_learning\n",
            "Successfully installed qiskit_machine_learning-0.8.2\n"
          ]
        }
      ]
    },
    {
      "cell_type": "markdown",
      "source": [
        "- ZZFeatureMap → Quantum feature map for data encoding\n",
        "- Sampler → Executes quantum circuits\n",
        "- QSVC → Quantum-enhanced Support Vector Classifier\n",
        "- FidelityQuantumKernel → Computes quantum kernel based on fidelity\n",
        "- ComputeUncompute → Measures fidelity efficiently"
      ],
      "metadata": {
        "id": "HmWuzDSeFvhp"
      }
    },
    {
      "cell_type": "code",
      "execution_count": null,
      "metadata": {
        "id": "I83ACw5JZPmx"
      },
      "outputs": [],
      "source": [
        "import numpy as np\n",
        "import matplotlib.pyplot as plt\n",
        "import pandas as pd\n",
        "\n",
        "from sklearn.datasets import load_wine\n",
        "from sklearn.model_selection import train_test_split\n",
        "from sklearn.decomposition import PCA\n",
        "from sklearn.preprocessing import MinMaxScaler, StandardScaler\n",
        "\n",
        "from qiskit.circuit.library import ZZFeatureMap\n",
        "from qiskit.primitives import Sampler\n",
        "from qiskit_machine_learning.algorithms import QSVC\n",
        "from qiskit_machine_learning.kernels import FidelityQuantumKernel\n",
        "from qiskit_algorithms.state_fidelities import ComputeUncompute"
      ]
    },
    {
      "cell_type": "code",
      "source": [
        "# 📌 1️⃣ Load Dataset & Extract Parameters\n",
        "wine_data = load_wine()\n",
        "X, y = wine_data.data, wine_data.target  # Features & Target"
      ],
      "metadata": {
        "id": "2f7RdK7qFHN6"
      },
      "execution_count": null,
      "outputs": []
    },
    {
      "cell_type": "markdown",
      "source": [
        "✅ Loads Wine Dataset\n",
        "\n",
        "- X → Feature matrix (chemical properties of wine)\n",
        "- y → Labels (0 = class 1, 1 = class 2, 2 = class 3)\n",
        "\n",
        "Instances: 178\n",
        "Attributes: 14 (13 numeric and 1 predictive)"
      ],
      "metadata": {
        "id": "7z2gxj3HF4Oi"
      }
    },
    {
      "cell_type": "code",
      "source": [
        "# Display dataset information\n",
        "print(\"\\n📝 Dataset Description:\\n\", wine_data['DESCR'])\n",
        "print(\"\\n📌 Feature Names:\\n\", wine_data['feature_names'])\n",
        "print(\"\\n🎯 Target Classes:\\n\", wine_data['target_names'])\n",
        "print(\"\\n📊 Data Shape (samples, features):\", X.shape)\n",
        "\n",
        "# Convert to DataFrame for better visualization\n",
        "df = pd.DataFrame(X, columns=wine_data['feature_names'])\n",
        "df['target'] = y\n",
        "print(\"\\n🔹 First 5 rows of the dataset:\\n\", df.head())"
      ],
      "metadata": {
        "colab": {
          "base_uri": "https://localhost:8080/"
        },
        "id": "5ZorwYNGFKHS",
        "outputId": "1385ca93-510d-4bcc-89b8-fa5bff1dbee3"
      },
      "execution_count": null,
      "outputs": [
        {
          "output_type": "stream",
          "name": "stdout",
          "text": [
            "\n",
            "📝 Dataset Description:\n",
            " .. _wine_dataset:\n",
            "\n",
            "Wine recognition dataset\n",
            "------------------------\n",
            "\n",
            "**Data Set Characteristics:**\n",
            "\n",
            ":Number of Instances: 178\n",
            ":Number of Attributes: 13 numeric, predictive attributes and the class\n",
            ":Attribute Information:\n",
            "    - Alcohol\n",
            "    - Malic acid\n",
            "    - Ash\n",
            "    - Alcalinity of ash\n",
            "    - Magnesium\n",
            "    - Total phenols\n",
            "    - Flavanoids\n",
            "    - Nonflavanoid phenols\n",
            "    - Proanthocyanins\n",
            "    - Color intensity\n",
            "    - Hue\n",
            "    - OD280/OD315 of diluted wines\n",
            "    - Proline\n",
            "    - class:\n",
            "        - class_0\n",
            "        - class_1\n",
            "        - class_2\n",
            "\n",
            ":Summary Statistics:\n",
            "\n",
            "============================= ==== ===== ======= =====\n",
            "                                Min   Max   Mean     SD\n",
            "============================= ==== ===== ======= =====\n",
            "Alcohol:                      11.0  14.8    13.0   0.8\n",
            "Malic Acid:                   0.74  5.80    2.34  1.12\n",
            "Ash:                          1.36  3.23    2.36  0.27\n",
            "Alcalinity of Ash:            10.6  30.0    19.5   3.3\n",
            "Magnesium:                    70.0 162.0    99.7  14.3\n",
            "Total Phenols:                0.98  3.88    2.29  0.63\n",
            "Flavanoids:                   0.34  5.08    2.03  1.00\n",
            "Nonflavanoid Phenols:         0.13  0.66    0.36  0.12\n",
            "Proanthocyanins:              0.41  3.58    1.59  0.57\n",
            "Colour Intensity:              1.3  13.0     5.1   2.3\n",
            "Hue:                          0.48  1.71    0.96  0.23\n",
            "OD280/OD315 of diluted wines: 1.27  4.00    2.61  0.71\n",
            "Proline:                       278  1680     746   315\n",
            "============================= ==== ===== ======= =====\n",
            "\n",
            ":Missing Attribute Values: None\n",
            ":Class Distribution: class_0 (59), class_1 (71), class_2 (48)\n",
            ":Creator: R.A. Fisher\n",
            ":Donor: Michael Marshall (MARSHALL%PLU@io.arc.nasa.gov)\n",
            ":Date: July, 1988\n",
            "\n",
            "This is a copy of UCI ML Wine recognition datasets.\n",
            "https://archive.ics.uci.edu/ml/machine-learning-databases/wine/wine.data\n",
            "\n",
            "The data is the results of a chemical analysis of wines grown in the same\n",
            "region in Italy by three different cultivators. There are thirteen different\n",
            "measurements taken for different constituents found in the three types of\n",
            "wine.\n",
            "\n",
            "Original Owners:\n",
            "\n",
            "Forina, M. et al, PARVUS -\n",
            "An Extendible Package for Data Exploration, Classification and Correlation.\n",
            "Institute of Pharmaceutical and Food Analysis and Technologies,\n",
            "Via Brigata Salerno, 16147 Genoa, Italy.\n",
            "\n",
            "Citation:\n",
            "\n",
            "Lichman, M. (2013). UCI Machine Learning Repository\n",
            "[https://archive.ics.uci.edu/ml]. Irvine, CA: University of California,\n",
            "School of Information and Computer Science.\n",
            "\n",
            ".. dropdown:: References\n",
            "\n",
            "    (1) S. Aeberhard, D. Coomans and O. de Vel,\n",
            "    Comparison of Classifiers in High Dimensional Settings,\n",
            "    Tech. Rep. no. 92-02, (1992), Dept. of Computer Science and Dept. of\n",
            "    Mathematics and Statistics, James Cook University of North Queensland.\n",
            "    (Also submitted to Technometrics).\n",
            "\n",
            "    The data was used with many others for comparing various\n",
            "    classifiers. The classes are separable, though only RDA\n",
            "    has achieved 100% correct classification.\n",
            "    (RDA : 100%, QDA 99.4%, LDA 98.9%, 1NN 96.1% (z-transformed data))\n",
            "    (All results using the leave-one-out technique)\n",
            "\n",
            "    (2) S. Aeberhard, D. Coomans and O. de Vel,\n",
            "    \"THE CLASSIFICATION PERFORMANCE OF RDA\"\n",
            "    Tech. Rep. no. 92-01, (1992), Dept. of Computer Science and Dept. of\n",
            "    Mathematics and Statistics, James Cook University of North Queensland.\n",
            "    (Also submitted to Journal of Chemometrics).\n",
            "\n",
            "\n",
            "📌 Feature Names:\n",
            " ['alcohol', 'malic_acid', 'ash', 'alcalinity_of_ash', 'magnesium', 'total_phenols', 'flavanoids', 'nonflavanoid_phenols', 'proanthocyanins', 'color_intensity', 'hue', 'od280/od315_of_diluted_wines', 'proline']\n",
            "\n",
            "🎯 Target Classes:\n",
            " ['class_0' 'class_1' 'class_2']\n",
            "\n",
            "📊 Data Shape (samples, features): (178, 13)\n",
            "\n",
            "🔹 First 5 rows of the dataset:\n",
            "    alcohol  malic_acid   ash  alcalinity_of_ash  magnesium  total_phenols  \\\n",
            "0    14.23        1.71  2.43               15.6      127.0           2.80   \n",
            "1    13.20        1.78  2.14               11.2      100.0           2.65   \n",
            "2    13.16        2.36  2.67               18.6      101.0           2.80   \n",
            "3    14.37        1.95  2.50               16.8      113.0           3.85   \n",
            "4    13.24        2.59  2.87               21.0      118.0           2.80   \n",
            "\n",
            "   flavanoids  nonflavanoid_phenols  proanthocyanins  color_intensity   hue  \\\n",
            "0        3.06                  0.28             2.29             5.64  1.04   \n",
            "1        2.76                  0.26             1.28             4.38  1.05   \n",
            "2        3.24                  0.30             2.81             5.68  1.03   \n",
            "3        3.49                  0.24             2.18             7.80  0.86   \n",
            "4        2.69                  0.39             1.82             4.32  1.04   \n",
            "\n",
            "   od280/od315_of_diluted_wines  proline  target  \n",
            "0                          3.92   1065.0       0  \n",
            "1                          3.40   1050.0       0  \n",
            "2                          3.17   1185.0       0  \n",
            "3                          3.45   1480.0       0  \n",
            "4                          2.93    735.0       0  \n"
          ]
        }
      ]
    },
    {
      "cell_type": "code",
      "source": [
        "# 📌 2️⃣ Preprocessing & Splitting Data\n",
        "def preprocess_wine(training_size, test_size, n_features, plot_data=False):\n",
        "    \"\"\" Preprocess the Wine dataset by scaling, PCA, and splitting \"\"\"\n",
        "\n",
        "    # Train-test split\n",
        "    X_train, X_test, y_train, y_test = train_test_split(X, y, test_size=test_size, random_state=42)\n",
        "\n",
        "    # Standardization (zero mean, unit variance)\n",
        "    std_scaler = StandardScaler().fit(X_train)\n",
        "    X_train = std_scaler.transform(X_train)\n",
        "    X_test = std_scaler.transform(X_test)\n",
        "\n",
        "    # PCA for feature reduction\n",
        "    pca = PCA(n_components=n_features).fit(X_train)\n",
        "    X_train = pca.transform(X_train)\n",
        "    X_test = pca.transform(X_test)\n",
        "\n",
        "    # MinMax Scaling (-1 to 1 for quantum processing)\n",
        "    minmax_scaler = MinMaxScaler(feature_range=(-1, 1)).fit(np.vstack((X_train, X_test)))\n",
        "    X_train = minmax_scaler.transform(X_train)\n",
        "    X_test = minmax_scaler.transform(X_test)\n",
        "\n",
        "    # Reduce dataset size for training & testing\n",
        "    X_train, y_train = X_train[:training_size], y_train[:training_size]\n",
        "    X_test, y_test = X_test[:training_size], y_test[:training_size]\n",
        "\n",
        "    # Plot if required\n",
        "    if plot_data:\n",
        "        for k in range(3):\n",
        "            plt.scatter(X_train[y_train == k, 0], X_train[y_train == k, 1])\n",
        "        plt.title(\"PCA Reduced Wine Dataset\")\n",
        "        plt.show()\n",
        "\n",
        "    return X_train, y_train, X_test, y_test"
      ],
      "metadata": {
        "id": "DK5Qsm6laxxV"
      },
      "execution_count": null,
      "outputs": []
    },
    {
      "cell_type": "markdown",
      "source": [
        "-----------------------------------------\n",
        "\n",
        "    X_train, X_test, y_train, y_test = train_test_split(X, y, test_size=test_size, random_state=42)\n",
        "\n",
        "\n",
        "✅ Splits data into training & test sets\n",
        "\n",
        "- 80% train, 20% test\n",
        "\n",
        "-----------------------------------------\n",
        "\n",
        "    std_scaler = StandardScaler().fit(X_train)\n",
        "    X_train = std_scaler.transform(X_train)\n",
        "    X_test = std_scaler.transform(X_test)\n",
        "\n",
        "✅ Standardizes dataset\n",
        "\n",
        "- Ensures zero mean & unit variance\n",
        "\n",
        "----------------------------------------\n",
        "\n",
        "    pca = PCA(n_components=n_features).fit(X_train)\n",
        "    X_train = pca.transform(X_train)\n",
        "    X_test = pca.transform(X_test)\n",
        "\n",
        "✅ Applies PCA for dimensionality reduction\n",
        "\n",
        "- Reduces data to n_features (2 for visualization)\n",
        "\n",
        "----------------------------------------\n",
        "\n",
        "    minmax_scaler = MinMaxScaler(feature_range=(-1, 1)).fit(np.vstack((X_train, X_test)))\n",
        "    X_train = minmax_scaler.transform(X_train)\n",
        "    X_test = minmax_scaler.transform(X_test)\n",
        "\n",
        "✅ Scales values between -1 and 1\n",
        "\n",
        "- Required for quantum algorithms\n",
        "\n",
        "----------------------------------------\n",
        "\n",
        "    X_train, y_train = X_train[:training_size], y_train[:training_size]\n",
        "    X_test, y_test = X_test[:training_size], y_test[:training_size]\n",
        "\n",
        "✅ Limits dataset size for efficiency\n",
        "\n",
        "----------------------------------------\n",
        "\n",
        "    if plot_data:\n",
        "        for k in range(3):\n",
        "            plt.scatter(X_train[y_train == k, 0], X_train[y_train == k, 1])\n",
        "        plt.title(\"PCA Reduced Wine Dataset\")\n",
        "        plt.show()\n",
        "\n",
        "\n",
        "✅ Plots the dataset if plot_data=True\n",
        "\n",
        "- Uses the first 2 PCA components\n",
        "\n",
        "----------------------------------------"
      ],
      "metadata": {
        "id": "jBUPtgb0Gmd0"
      }
    },
    {
      "cell_type": "code",
      "source": [
        "train_data, train_labels, test_data, test_labels = preprocess_wine(\n",
        "    training_size=120, test_size=20, n_features=2, plot_data=True\n",
        ")"
      ],
      "metadata": {
        "colab": {
          "base_uri": "https://localhost:8080/",
          "height": 452
        },
        "id": "gfF5fNgfaxt1",
        "outputId": "0d55cc5e-7547-486b-d774-1192a3695d1e"
      },
      "execution_count": null,
      "outputs": [
        {
          "output_type": "display_data",
          "data": {
            "text/plain": [
              "<Figure size 640x480 with 1 Axes>"
            ],
            "image/png": "[encoded data removed]"
          },
          "metadata": {}
        }
      ]
    },
    {
      "cell_type": "code",
      "source": [
        "from qiskit.primitives import Sampler\n",
        "\n",
        "# 📌 3️⃣ Quantum Feature Mapping & Kernel Setup\n",
        "feature_map = ZZFeatureMap(2)\n",
        "fidelity = ComputeUncompute(sampler=Sampler())\n",
        "quantum_kernel = FidelityQuantumKernel(feature_map=feature_map, fidelity=fidelity)\n",
        "\n",
        "# 📌 4️⃣ Train & Evaluate QSVM\n",
        "qsvc = QSVC(quantum_kernel=quantum_kernel, decision_function_shape='ovr')\n",
        "qsvc.fit(train_data, train_labels)\n",
        "\n",
        "print(f'\\n✅ Training Accuracy: {qsvc.score(train_data, train_labels)}')\n",
        "print(f'✅ Test Accuracy: {qsvc.score(test_data, test_labels)}')"
      ],
      "metadata": {
        "colab": {
          "base_uri": "https://localhost:8080/"
        },
        "id": "RokmN4CZaxrD",
        "outputId": "e81c80dd-47e3-496f-fbd2-1e084be8c942"
      },
      "execution_count": null,
      "outputs": [
        {
          "output_type": "stream",
          "name": "stderr",
          "text": [
            "<ipython-input-11-6457f9bc16d5>:5: DeprecationWarning: The class ``qiskit.primitives.sampler.Sampler`` is deprecated as of qiskit 1.2. It will be removed no earlier than 3 months after the release date. All implementations of the `BaseSamplerV1` interface have been deprecated in favor of their V2 counterparts. The V2 alternative for the `Sampler` class is `StatevectorSampler`.\n",
            "  fidelity = ComputeUncompute(sampler=Sampler())\n"
          ]
        },
        {
          "output_type": "stream",
          "name": "stdout",
          "text": [
            "\n",
            "✅ Training Accuracy: 0.8916666666666667\n",
            "✅ Test Accuracy: 0.8\n"
          ]
        }
      ]
    },
    {
      "cell_type": "markdown",
      "source": [
        "-----------------------------------------\n",
        "\n",
        "    feature_map = ZZFeatureMap(2)\n",
        "\n",
        "✅ Encodes classical data into quantum states\n",
        "\n",
        "- Uses 2 qubits for 2 PCA features\n",
        "\n",
        "-----------------------------------------\n",
        "\n",
        "    fidelity = ComputeUncompute(sampler=Sampler())\n",
        "    quantum_kernel = FidelityQuantumKernel(feature_map=feature_map, fidelity=fidelity)\n",
        "\n",
        "✅ Computes quantum kernel matrix\n",
        "\n",
        "- Uses quantum state fidelity\n",
        "\n",
        "-----------------------------------------\n",
        "\n",
        "5️⃣ Train & Evaluate QSVM\n",
        "\n",
        "    qsvc = QSVC(quantum_kernel=quantum_kernel, decision_function_shape='ovr')\n",
        "\n",
        "\n",
        "✅ Creates Quantum SVM Classifier\n",
        "\n",
        "ovr → One-Versus-Rest for multi-class\n",
        "\n",
        "-----------------------------------------\n",
        "\n",
        "    qsvc.fit(train_data, train_labels)\n",
        "\n",
        "✅ Trains QSVC on quantum-enhanced data\n",
        "\n",
        "-----------------------------------------\n",
        "\n",
        "print(f'\\n✅ Training Accuracy: {qsvc.score(train_data, train_labels)}')\n",
        "\n",
        "\n",
        "print(f'✅ Test Accuracy: {qsvc.score(test_data, test_labels)}')\n",
        "\n",
        "✅ Evaluates model performance\n",
        "\n",
        "- Prints training & testing accuracy\n",
        "\n",
        "-----------------------------------------"
      ],
      "metadata": {
        "id": "Dsbej7BwR-3b"
      }
    },
    {
      "cell_type": "code",
      "source": [
        "! pip freeze | grep qiskit"
      ],
      "metadata": {
        "colab": {
          "base_uri": "https://localhost:8080/"
        },
        "id": "AMyZ8rb5axow",
        "outputId": "d7b2a486-e29f-434a-b449-ef8d19ccd035"
      },
      "execution_count": null,
      "outputs": [
        {
          "output_type": "stream",
          "name": "stdout",
          "text": [
            "qiskit==1.3.2\n",
            "qiskit-algorithms==0.3.1\n",
            "qiskit-machine-learning==0.8.2\n"
          ]
        }
      ]
    }
  ]
}